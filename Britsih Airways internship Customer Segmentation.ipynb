{
 "cells": [
  {
   "cell_type": "markdown",
   "metadata": {},
   "source": [
    "# Task 2\n",
    "\n",
    "---\n",
    "\n",
    "## Predictive modeling of customer bookings\n",
    "\n",
    "This Jupyter notebook includes some code to get you started with this predictive modeling task. We will use various packages for data manipulation, feature engineering and machine learning.\n",
    "\n",
    "### Exploratory data analysis\n",
    "\n",
    "First, we must explore the data in order to better understand what we have and the statistical properties of the dataset."
   ]
  },
  {
   "cell_type": "code",
   "execution_count": 1,
   "metadata": {},
   "outputs": [],
   "source": [
    "import pandas as pd\n",
    "import matplotlib.pyplot as plt\n",
    "import seaborn as sns\n",
    "from sklearn.preprocessing import StandardScaler\n",
    "from sklearn.model_selection import train_test_split, cross_val_score\n",
    "\n",
    "from sklearn.ensemble import RandomForestClassifier\n",
    "from sklearn.linear_model import LogisticRegression\n",
    "from sklearn.metrics import accuracy_score\n",
    "from sklearn.metrics import f1_score\n",
    "from sklearn.metrics import precision_score\n",
    "from sklearn.metrics import recall_score\n",
    "from sklearn.inspection import permutation_importance\n",
    "\n",
    "from yellowbrick.classifier import ConfusionMatrix\n",
    "from sklearn.model_selection import GridSearchCV,  RepeatedStratifiedKFold"
   ]
  },
  {
   "cell_type": "code",
   "execution_count": 2,
   "metadata": {},
   "outputs": [
    {
     "data": {
      "text/html": [
       "<div>\n",
       "<style scoped>\n",
       "    .dataframe tbody tr th:only-of-type {\n",
       "        vertical-align: middle;\n",
       "    }\n",
       "\n",
       "    .dataframe tbody tr th {\n",
       "        vertical-align: top;\n",
       "    }\n",
       "\n",
       "    .dataframe thead th {\n",
       "        text-align: right;\n",
       "    }\n",
       "</style>\n",
       "<table border=\"1\" class=\"dataframe\">\n",
       "  <thead>\n",
       "    <tr style=\"text-align: right;\">\n",
       "      <th></th>\n",
       "      <th>num_passengers</th>\n",
       "      <th>sales_channel</th>\n",
       "      <th>trip_type</th>\n",
       "      <th>purchase_lead</th>\n",
       "      <th>length_of_stay</th>\n",
       "      <th>flight_hour</th>\n",
       "      <th>flight_day</th>\n",
       "      <th>route</th>\n",
       "      <th>booking_origin</th>\n",
       "      <th>wants_extra_baggage</th>\n",
       "      <th>wants_preferred_seat</th>\n",
       "      <th>wants_in_flight_meals</th>\n",
       "      <th>flight_duration</th>\n",
       "      <th>booking_complete</th>\n",
       "    </tr>\n",
       "  </thead>\n",
       "  <tbody>\n",
       "    <tr>\n",
       "      <th>0</th>\n",
       "      <td>2</td>\n",
       "      <td>Internet</td>\n",
       "      <td>RoundTrip</td>\n",
       "      <td>262</td>\n",
       "      <td>19</td>\n",
       "      <td>7</td>\n",
       "      <td>Sat</td>\n",
       "      <td>AKLDEL</td>\n",
       "      <td>New Zealand</td>\n",
       "      <td>1</td>\n",
       "      <td>0</td>\n",
       "      <td>0</td>\n",
       "      <td>5.52</td>\n",
       "      <td>0</td>\n",
       "    </tr>\n",
       "    <tr>\n",
       "      <th>1</th>\n",
       "      <td>1</td>\n",
       "      <td>Internet</td>\n",
       "      <td>RoundTrip</td>\n",
       "      <td>112</td>\n",
       "      <td>20</td>\n",
       "      <td>3</td>\n",
       "      <td>Sat</td>\n",
       "      <td>AKLDEL</td>\n",
       "      <td>New Zealand</td>\n",
       "      <td>0</td>\n",
       "      <td>0</td>\n",
       "      <td>0</td>\n",
       "      <td>5.52</td>\n",
       "      <td>0</td>\n",
       "    </tr>\n",
       "    <tr>\n",
       "      <th>2</th>\n",
       "      <td>2</td>\n",
       "      <td>Internet</td>\n",
       "      <td>RoundTrip</td>\n",
       "      <td>243</td>\n",
       "      <td>22</td>\n",
       "      <td>17</td>\n",
       "      <td>Wed</td>\n",
       "      <td>AKLDEL</td>\n",
       "      <td>India</td>\n",
       "      <td>1</td>\n",
       "      <td>1</td>\n",
       "      <td>0</td>\n",
       "      <td>5.52</td>\n",
       "      <td>0</td>\n",
       "    </tr>\n",
       "    <tr>\n",
       "      <th>3</th>\n",
       "      <td>1</td>\n",
       "      <td>Internet</td>\n",
       "      <td>RoundTrip</td>\n",
       "      <td>96</td>\n",
       "      <td>31</td>\n",
       "      <td>4</td>\n",
       "      <td>Sat</td>\n",
       "      <td>AKLDEL</td>\n",
       "      <td>New Zealand</td>\n",
       "      <td>0</td>\n",
       "      <td>0</td>\n",
       "      <td>1</td>\n",
       "      <td>5.52</td>\n",
       "      <td>0</td>\n",
       "    </tr>\n",
       "    <tr>\n",
       "      <th>4</th>\n",
       "      <td>2</td>\n",
       "      <td>Internet</td>\n",
       "      <td>RoundTrip</td>\n",
       "      <td>68</td>\n",
       "      <td>22</td>\n",
       "      <td>15</td>\n",
       "      <td>Wed</td>\n",
       "      <td>AKLDEL</td>\n",
       "      <td>India</td>\n",
       "      <td>1</td>\n",
       "      <td>0</td>\n",
       "      <td>1</td>\n",
       "      <td>5.52</td>\n",
       "      <td>0</td>\n",
       "    </tr>\n",
       "  </tbody>\n",
       "</table>\n",
       "</div>"
      ],
      "text/plain": [
       "   num_passengers sales_channel  trip_type  purchase_lead  length_of_stay  \\\n",
       "0               2      Internet  RoundTrip            262              19   \n",
       "1               1      Internet  RoundTrip            112              20   \n",
       "2               2      Internet  RoundTrip            243              22   \n",
       "3               1      Internet  RoundTrip             96              31   \n",
       "4               2      Internet  RoundTrip             68              22   \n",
       "\n",
       "   flight_hour flight_day   route booking_origin  wants_extra_baggage  \\\n",
       "0            7        Sat  AKLDEL    New Zealand                    1   \n",
       "1            3        Sat  AKLDEL    New Zealand                    0   \n",
       "2           17        Wed  AKLDEL          India                    1   \n",
       "3            4        Sat  AKLDEL    New Zealand                    0   \n",
       "4           15        Wed  AKLDEL          India                    1   \n",
       "\n",
       "   wants_preferred_seat  wants_in_flight_meals  flight_duration  \\\n",
       "0                     0                      0             5.52   \n",
       "1                     0                      0             5.52   \n",
       "2                     1                      0             5.52   \n",
       "3                     0                      1             5.52   \n",
       "4                     0                      1             5.52   \n",
       "\n",
       "   booking_complete  \n",
       "0                 0  \n",
       "1                 0  \n",
       "2                 0  \n",
       "3                 0  \n",
       "4                 0  "
      ]
     },
     "execution_count": 2,
     "metadata": {},
     "output_type": "execute_result"
    }
   ],
   "source": [
    "df = pd.read_csv(\"customer_booking.csv\", encoding=\"ISO-8859-1\")\n",
    "df.head()"
   ]
  },
  {
   "cell_type": "markdown",
   "metadata": {},
   "source": [
    "The `.head()` method allows us to view the first 5 rows in the dataset, this is useful for visual inspection of our columns"
   ]
  },
  {
   "cell_type": "code",
   "execution_count": 3,
   "metadata": {},
   "outputs": [
    {
     "name": "stdout",
     "output_type": "stream",
     "text": [
      "<class 'pandas.core.frame.DataFrame'>\n",
      "RangeIndex: 50000 entries, 0 to 49999\n",
      "Data columns (total 14 columns):\n",
      " #   Column                 Non-Null Count  Dtype  \n",
      "---  ------                 --------------  -----  \n",
      " 0   num_passengers         50000 non-null  int64  \n",
      " 1   sales_channel          50000 non-null  object \n",
      " 2   trip_type              50000 non-null  object \n",
      " 3   purchase_lead          50000 non-null  int64  \n",
      " 4   length_of_stay         50000 non-null  int64  \n",
      " 5   flight_hour            50000 non-null  int64  \n",
      " 6   flight_day             50000 non-null  object \n",
      " 7   route                  50000 non-null  object \n",
      " 8   booking_origin         50000 non-null  object \n",
      " 9   wants_extra_baggage    50000 non-null  int64  \n",
      " 10  wants_preferred_seat   50000 non-null  int64  \n",
      " 11  wants_in_flight_meals  50000 non-null  int64  \n",
      " 12  flight_duration        50000 non-null  float64\n",
      " 13  booking_complete       50000 non-null  int64  \n",
      "dtypes: float64(1), int64(8), object(5)\n",
      "memory usage: 5.3+ MB\n"
     ]
    }
   ],
   "source": [
    "df.info()"
   ]
  },
  {
   "cell_type": "markdown",
   "metadata": {},
   "source": [
    "The `.info()` method gives us a data description, telling us the names of the columns, their data types and how many null values we have. Fortunately, we have no null values. It looks like some of these columns should be converted into different data types, e.g. flight_day.\n",
    "\n",
    "To provide more context, below is a more detailed data description, explaining exactly what each column means:\n",
    "\n",
    "- `num_passengers` = number of passengers travelling\n",
    "- `sales_channel` = sales channel booking was made on\n",
    "- `trip_type` = trip Type (Round Trip, One Way, Circle Trip)\n",
    "- `purchase_lead` = number of days between travel date and booking date\n",
    "- `length_of_stay` = number of days spent at destination\n",
    "- `flight_hour` = hour of flight departure\n",
    "- `flight_day` = day of week of flight departure\n",
    "- `route` = origin -> destination flight route\n",
    "- `booking_origin` = country from where booking was made\n",
    "- `wants_extra_baggage` = if the customer wanted extra baggage in the booking\n",
    "- `wants_preferred_seat` = if the customer wanted a preferred seat in the booking\n",
    "- `wants_in_flight_meals` = if the customer wanted in-flight meals in the booking\n",
    "- `flight_duration` = total duration of flight (in hours)\n",
    "- `booking_complete` = flag indicating if the customer completed the booking\n",
    "\n",
    "Before we compute any statistics on the data, lets do any necessary data conversion"
   ]
  },
  {
   "cell_type": "code",
   "execution_count": 4,
   "metadata": {},
   "outputs": [
    {
     "data": {
      "text/plain": [
       "array(['Sat', 'Wed', 'Thu', 'Mon', 'Sun', 'Tue', 'Fri'], dtype=object)"
      ]
     },
     "execution_count": 4,
     "metadata": {},
     "output_type": "execute_result"
    }
   ],
   "source": [
    "df[\"flight_day\"].unique()"
   ]
  },
  {
   "cell_type": "code",
   "execution_count": 5,
   "metadata": {},
   "outputs": [],
   "source": [
    "mapping = {\n",
    "    \"Mon\": 1,\n",
    "    \"Tue\": 2,\n",
    "    \"Wed\": 3,\n",
    "    \"Thu\": 4,\n",
    "    \"Fri\": 5,\n",
    "    \"Sat\": 6,\n",
    "    \"Sun\": 7,\n",
    "}\n",
    "\n",
    "df[\"flight_day\"] = df[\"flight_day\"].map(mapping)"
   ]
  },
  {
   "cell_type": "code",
   "execution_count": 6,
   "metadata": {},
   "outputs": [
    {
     "data": {
      "text/plain": [
       "array([6, 3, 4, 1, 7, 2, 5])"
      ]
     },
     "execution_count": 6,
     "metadata": {},
     "output_type": "execute_result"
    }
   ],
   "source": [
    "df[\"flight_day\"].unique()"
   ]
  },
  {
   "cell_type": "code",
   "execution_count": 7,
   "metadata": {},
   "outputs": [
    {
     "data": {
      "text/html": [
       "<div>\n",
       "<style scoped>\n",
       "    .dataframe tbody tr th:only-of-type {\n",
       "        vertical-align: middle;\n",
       "    }\n",
       "\n",
       "    .dataframe tbody tr th {\n",
       "        vertical-align: top;\n",
       "    }\n",
       "\n",
       "    .dataframe thead th {\n",
       "        text-align: right;\n",
       "    }\n",
       "</style>\n",
       "<table border=\"1\" class=\"dataframe\">\n",
       "  <thead>\n",
       "    <tr style=\"text-align: right;\">\n",
       "      <th></th>\n",
       "      <th>num_passengers</th>\n",
       "      <th>purchase_lead</th>\n",
       "      <th>length_of_stay</th>\n",
       "      <th>flight_hour</th>\n",
       "      <th>flight_day</th>\n",
       "      <th>wants_extra_baggage</th>\n",
       "      <th>wants_preferred_seat</th>\n",
       "      <th>wants_in_flight_meals</th>\n",
       "      <th>flight_duration</th>\n",
       "      <th>booking_complete</th>\n",
       "    </tr>\n",
       "  </thead>\n",
       "  <tbody>\n",
       "    <tr>\n",
       "      <th>count</th>\n",
       "      <td>50000.000000</td>\n",
       "      <td>50000.000000</td>\n",
       "      <td>50000.00000</td>\n",
       "      <td>50000.00000</td>\n",
       "      <td>50000.000000</td>\n",
       "      <td>50000.000000</td>\n",
       "      <td>50000.000000</td>\n",
       "      <td>50000.000000</td>\n",
       "      <td>50000.000000</td>\n",
       "      <td>50000.000000</td>\n",
       "    </tr>\n",
       "    <tr>\n",
       "      <th>mean</th>\n",
       "      <td>1.591240</td>\n",
       "      <td>84.940480</td>\n",
       "      <td>23.04456</td>\n",
       "      <td>9.06634</td>\n",
       "      <td>3.814420</td>\n",
       "      <td>0.668780</td>\n",
       "      <td>0.296960</td>\n",
       "      <td>0.427140</td>\n",
       "      <td>7.277561</td>\n",
       "      <td>0.149560</td>\n",
       "    </tr>\n",
       "    <tr>\n",
       "      <th>std</th>\n",
       "      <td>1.020165</td>\n",
       "      <td>90.451378</td>\n",
       "      <td>33.88767</td>\n",
       "      <td>5.41266</td>\n",
       "      <td>1.992792</td>\n",
       "      <td>0.470657</td>\n",
       "      <td>0.456923</td>\n",
       "      <td>0.494668</td>\n",
       "      <td>1.496863</td>\n",
       "      <td>0.356643</td>\n",
       "    </tr>\n",
       "    <tr>\n",
       "      <th>min</th>\n",
       "      <td>1.000000</td>\n",
       "      <td>0.000000</td>\n",
       "      <td>0.00000</td>\n",
       "      <td>0.00000</td>\n",
       "      <td>1.000000</td>\n",
       "      <td>0.000000</td>\n",
       "      <td>0.000000</td>\n",
       "      <td>0.000000</td>\n",
       "      <td>4.670000</td>\n",
       "      <td>0.000000</td>\n",
       "    </tr>\n",
       "    <tr>\n",
       "      <th>25%</th>\n",
       "      <td>1.000000</td>\n",
       "      <td>21.000000</td>\n",
       "      <td>5.00000</td>\n",
       "      <td>5.00000</td>\n",
       "      <td>2.000000</td>\n",
       "      <td>0.000000</td>\n",
       "      <td>0.000000</td>\n",
       "      <td>0.000000</td>\n",
       "      <td>5.620000</td>\n",
       "      <td>0.000000</td>\n",
       "    </tr>\n",
       "    <tr>\n",
       "      <th>50%</th>\n",
       "      <td>1.000000</td>\n",
       "      <td>51.000000</td>\n",
       "      <td>17.00000</td>\n",
       "      <td>9.00000</td>\n",
       "      <td>4.000000</td>\n",
       "      <td>1.000000</td>\n",
       "      <td>0.000000</td>\n",
       "      <td>0.000000</td>\n",
       "      <td>7.570000</td>\n",
       "      <td>0.000000</td>\n",
       "    </tr>\n",
       "    <tr>\n",
       "      <th>75%</th>\n",
       "      <td>2.000000</td>\n",
       "      <td>115.000000</td>\n",
       "      <td>28.00000</td>\n",
       "      <td>13.00000</td>\n",
       "      <td>5.000000</td>\n",
       "      <td>1.000000</td>\n",
       "      <td>1.000000</td>\n",
       "      <td>1.000000</td>\n",
       "      <td>8.830000</td>\n",
       "      <td>0.000000</td>\n",
       "    </tr>\n",
       "    <tr>\n",
       "      <th>max</th>\n",
       "      <td>9.000000</td>\n",
       "      <td>867.000000</td>\n",
       "      <td>778.00000</td>\n",
       "      <td>23.00000</td>\n",
       "      <td>7.000000</td>\n",
       "      <td>1.000000</td>\n",
       "      <td>1.000000</td>\n",
       "      <td>1.000000</td>\n",
       "      <td>9.500000</td>\n",
       "      <td>1.000000</td>\n",
       "    </tr>\n",
       "  </tbody>\n",
       "</table>\n",
       "</div>"
      ],
      "text/plain": [
       "       num_passengers  purchase_lead  length_of_stay  flight_hour  \\\n",
       "count    50000.000000   50000.000000     50000.00000  50000.00000   \n",
       "mean         1.591240      84.940480        23.04456      9.06634   \n",
       "std          1.020165      90.451378        33.88767      5.41266   \n",
       "min          1.000000       0.000000         0.00000      0.00000   \n",
       "25%          1.000000      21.000000         5.00000      5.00000   \n",
       "50%          1.000000      51.000000        17.00000      9.00000   \n",
       "75%          2.000000     115.000000        28.00000     13.00000   \n",
       "max          9.000000     867.000000       778.00000     23.00000   \n",
       "\n",
       "         flight_day  wants_extra_baggage  wants_preferred_seat  \\\n",
       "count  50000.000000         50000.000000          50000.000000   \n",
       "mean       3.814420             0.668780              0.296960   \n",
       "std        1.992792             0.470657              0.456923   \n",
       "min        1.000000             0.000000              0.000000   \n",
       "25%        2.000000             0.000000              0.000000   \n",
       "50%        4.000000             1.000000              0.000000   \n",
       "75%        5.000000             1.000000              1.000000   \n",
       "max        7.000000             1.000000              1.000000   \n",
       "\n",
       "       wants_in_flight_meals  flight_duration  booking_complete  \n",
       "count           50000.000000     50000.000000      50000.000000  \n",
       "mean                0.427140         7.277561          0.149560  \n",
       "std                 0.494668         1.496863          0.356643  \n",
       "min                 0.000000         4.670000          0.000000  \n",
       "25%                 0.000000         5.620000          0.000000  \n",
       "50%                 0.000000         7.570000          0.000000  \n",
       "75%                 1.000000         8.830000          0.000000  \n",
       "max                 1.000000         9.500000          1.000000  "
      ]
     },
     "execution_count": 7,
     "metadata": {},
     "output_type": "execute_result"
    }
   ],
   "source": [
    "df.describe()"
   ]
  },
  {
   "cell_type": "markdown",
   "metadata": {},
   "source": [
    "The `.describe()` method gives us a summary of descriptive statistics over the entire dataset (only works for numeric columns). This gives us a quick overview of a few things such as the mean, min, max and overall distribution of each column.\n",
    "\n",
    "From this point, you should continue exploring the dataset with some visualisations and other metrics that you think may be useful. Then, you should prepare your dataset for predictive modelling. Finally, you should train your machine learning model, evaluate it with performance metrics and output visualisations for the contributing variables. All of this analysis should be summarised in your single slide."
   ]
  },
  {
   "cell_type": "code",
   "execution_count": 8,
   "metadata": {},
   "outputs": [
    {
     "name": "stdout",
     "output_type": "stream",
     "text": [
      "<class 'pandas.core.frame.DataFrame'>\n",
      "RangeIndex: 50000 entries, 0 to 49999\n",
      "Data columns (total 14 columns):\n",
      " #   Column                 Non-Null Count  Dtype  \n",
      "---  ------                 --------------  -----  \n",
      " 0   num_passengers         50000 non-null  int64  \n",
      " 1   sales_channel          50000 non-null  object \n",
      " 2   trip_type              50000 non-null  object \n",
      " 3   purchase_lead          50000 non-null  int64  \n",
      " 4   length_of_stay         50000 non-null  int64  \n",
      " 5   flight_hour            50000 non-null  int64  \n",
      " 6   flight_day             50000 non-null  int64  \n",
      " 7   route                  50000 non-null  object \n",
      " 8   booking_origin         50000 non-null  object \n",
      " 9   wants_extra_baggage    50000 non-null  int64  \n",
      " 10  wants_preferred_seat   50000 non-null  int64  \n",
      " 11  wants_in_flight_meals  50000 non-null  int64  \n",
      " 12  flight_duration        50000 non-null  float64\n",
      " 13  booking_complete       50000 non-null  int64  \n",
      "dtypes: float64(1), int64(9), object(4)\n",
      "memory usage: 5.3+ MB\n"
     ]
    }
   ],
   "source": [
    "df.info()"
   ]
  },
  {
   "cell_type": "code",
   "execution_count": 9,
   "metadata": {},
   "outputs": [
    {
     "name": "stdout",
     "output_type": "stream",
     "text": [
      "Count of Booking 0: 42522\n",
      "Count of Booking 1: 7478\n"
     ]
    }
   ],
   "source": [
    "# Imbalance in booking complete and uncomplete\n",
    "booking_counts = df[\"booking_complete\"].value_counts()\n",
    "\n",
    "print(\"Count of Booking 0:\", booking_counts[0])\n",
    "print(\"Count of Booking 1:\", booking_counts[1])"
   ]
  },
  {
   "cell_type": "code",
   "execution_count": 10,
   "metadata": {},
   "outputs": [
    {
     "data": {
      "text/plain": [
       "array(['Internet', 'Mobile'], dtype=object)"
      ]
     },
     "execution_count": 10,
     "metadata": {},
     "output_type": "execute_result"
    }
   ],
   "source": [
    "df[\"sales_channel\"].unique()"
   ]
  },
  {
   "cell_type": "code",
   "execution_count": 11,
   "metadata": {},
   "outputs": [
    {
     "data": {
      "text/plain": [
       "array(['RoundTrip', 'CircleTrip', 'OneWay'], dtype=object)"
      ]
     },
     "execution_count": 11,
     "metadata": {},
     "output_type": "execute_result"
    }
   ],
   "source": [
    "df[\"trip_type\"].unique()"
   ]
  },
  {
   "cell_type": "code",
   "execution_count": 12,
   "metadata": {},
   "outputs": [
    {
     "data": {
      "text/plain": [
       "array(['New Zealand', 'India', 'United Kingdom', 'China', 'South Korea',\n",
       "       'Japan', 'Malaysia', 'Singapore', 'Switzerland', 'Germany',\n",
       "       'Indonesia', 'Czech Republic', 'Vietnam', 'Thailand', 'Spain',\n",
       "       'Romania', 'Ireland', 'Italy', 'Slovakia', 'United Arab Emirates',\n",
       "       'Tonga', 'Réunion', '(not set)', 'Saudi Arabia', 'Netherlands',\n",
       "       'Qatar', 'Hong Kong', 'Philippines', 'Sri Lanka', 'France',\n",
       "       'Croatia', 'United States', 'Laos', 'Hungary', 'Portugal',\n",
       "       'Cyprus', 'Australia', 'Cambodia', 'Poland', 'Belgium', 'Oman',\n",
       "       'Bangladesh', 'Kazakhstan', 'Brazil', 'Turkey', 'Kenya', 'Taiwan',\n",
       "       'Brunei', 'Chile', 'Bulgaria', 'Ukraine', 'Denmark', 'Colombia',\n",
       "       'Iran', 'Bahrain', 'Solomon Islands', 'Slovenia', 'Mauritius',\n",
       "       'Nepal', 'Russia', 'Kuwait', 'Mexico', 'Sweden', 'Austria',\n",
       "       'Lebanon', 'Jordan', 'Greece', 'Mongolia', 'Canada', 'Tanzania',\n",
       "       'Peru', 'Timor-Leste', 'Argentina', 'New Caledonia', 'Macau',\n",
       "       'Myanmar (Burma)', 'Norway', 'Panama', 'Bhutan', 'Norfolk Island',\n",
       "       'Finland', 'Nicaragua', 'Maldives', 'Egypt', 'Israel', 'Tunisia',\n",
       "       'South Africa', 'Papua New Guinea', 'Paraguay', 'Estonia',\n",
       "       'Seychelles', 'Afghanistan', 'Guam', 'Czechia', 'Malta', 'Vanuatu',\n",
       "       'Belarus', 'Pakistan', 'Iraq', 'Ghana', 'Gibraltar', 'Guatemala',\n",
       "       'Algeria', 'Svalbard & Jan Mayen'], dtype=object)"
      ]
     },
     "execution_count": 12,
     "metadata": {},
     "output_type": "execute_result"
    }
   ],
   "source": [
    "df[\"booking_origin\"].unique()"
   ]
  },
  {
   "cell_type": "code",
   "execution_count": 13,
   "metadata": {},
   "outputs": [
    {
     "name": "stdout",
     "output_type": "stream",
     "text": [
      "Number of bookings through Internet: 44382\n",
      "Number of bookings through Calls: 5618\n"
     ]
    }
   ],
   "source": [
    "sales_channel_counts = df[\"sales_channel\"].value_counts()\n",
    "\n",
    "# Print the results\n",
    "print(\"Number of bookings through Internet:\", sales_channel_counts[\"Internet\"])\n",
    "print(\"Number of bookings through Calls:\", sales_channel_counts[\"Mobile\"])"
   ]
  },
  {
   "cell_type": "code",
   "execution_count": 14,
   "metadata": {},
   "outputs": [
    {
     "data": {
      "image/png": "[encoded data removed]",
      "text/plain": [
       "<Figure size 576x432 with 1 Axes>"
      ]
     },
     "metadata": {},
     "output_type": "display_data"
    }
   ],
   "source": [
    "# Create a pie chart\n",
    "plt.figure(figsize=(8, 6))\n",
    "plt.pie(sales_channel_counts, labels=sales_channel_counts.index, autopct=\"%1.1f%%\", startangle=140, colors=['skyblue', 'lightcoral'])\n",
    "plt.axis(\"equal\")  # Equal aspect ratio ensures the pie chart is circular.\n",
    "\n",
    "# Add a title\n",
    "plt.title(\"Distribution of Bookings by Sales Channel\")\n",
    "\n",
    "# Display the pie chart\n",
    "plt.show()"
   ]
  },
  {
   "cell_type": "code",
   "execution_count": 15,
   "metadata": {},
   "outputs": [
    {
     "data": {
      "image/png": "[encoded data removed]",
      "text/plain": [
       "<Figure size 864x432 with 1 Axes>"
      ]
     },
     "metadata": {},
     "output_type": "display_data"
    }
   ],
   "source": [
    "# Count the number of bookings for each booking origin\n",
    "booking_origin_counts = df[\"booking_origin\"].value_counts()\n",
    "\n",
    "# Select the top 20 booking origins\n",
    "top_20_booking_origins = booking_origin_counts[:19]\n",
    "\n",
    "# Create a bar plot for the top 20 booking origins\n",
    "plt.figure(figsize=(12, 6))\n",
    "ax = sns.barplot(x=top_20_booking_origins.index, y=top_20_booking_origins.values, palette=\"viridis\")\n",
    "plt.xticks(rotation=45)\n",
    "plt.xlabel(\"Booking Origin\")\n",
    "plt.ylabel(\"Number of Bookings\")\n",
    "plt.title(\"Number of Bookings from Top 20 Origins\")\n",
    "\n",
    "# Add count labels on top of each bar\n",
    "for index, value in enumerate(top_20_booking_origins):\n",
    "    ax.text(index, value + 19, str(value), ha='center', va='bottom', fontsize=10, color='black')\n",
    "\n",
    "# Display the bar plot\n",
    "plt.tight_layout()\n",
    "plt.show()"
   ]
  },
  {
   "cell_type": "code",
   "execution_count": 16,
   "metadata": {},
   "outputs": [
    {
     "data": {
      "image/png": "[encoded data removed]",
      "text/plain": [
       "<Figure size 720x432 with 1 Axes>"
      ]
     },
     "metadata": {},
     "output_type": "display_data"
    }
   ],
   "source": [
    "# Count the number of each trip type\n",
    "trip_type_counts = df[\"trip_type\"].value_counts()\n",
    "\n",
    "# Create a bar plot\n",
    "plt.figure(figsize=(10, 6))\n",
    "ax = sns.barplot(x=trip_type_counts.index, y=trip_type_counts.values, palette=\"pastel\")\n",
    "plt.xlabel(\"Trip Type\")\n",
    "plt.ylabel(\"Number of Bookings\")\n",
    "plt.title(\"Count of Each Trip Type\")\n",
    "\n",
    "# Add count labels on top of each bar\n",
    "for index, value in enumerate(trip_type_counts):\n",
    "    ax.text(index, value + 20, str(value), ha='center', va='bottom', fontsize=10, color='black')\n",
    "\n",
    "# Display the bar plot\n",
    "plt.xticks(rotation=45)\n",
    "plt.tight_layout()\n",
    "plt.show()"
   ]
  },
  {
   "cell_type": "code",
   "execution_count": 17,
   "metadata": {},
   "outputs": [
    {
     "data": {
      "image/png": "[encoded data removed]",
      "text/plain": [
       "<Figure size 720x432 with 1 Axes>"
      ]
     },
     "metadata": {},
     "output_type": "display_data"
    },
    {
     "data": {
      "image/png": "[encoded data removed]",
      "text/plain": [
       "<Figure size 720x432 with 1 Axes>"
      ]
     },
     "metadata": {},
     "output_type": "display_data"
    }
   ],
   "source": [
    "# Create a histogram\n",
    "plt.figure(figsize=(10, 6))\n",
    "sns.histplot(data=df, x=\"purchase_lead\", bins=30, kde=True, color='blue')\n",
    "plt.xlabel(\"Purchase Lead Time\")\n",
    "plt.ylabel(\"Frequency\")\n",
    "plt.title(\"Distribution of Purchase Lead Time\")\n",
    "\n",
    "# Display the histogram\n",
    "plt.tight_layout()\n",
    "plt.show()\n",
    "\n",
    "# Create a box plot\n",
    "plt.figure(figsize=(10, 6))\n",
    "sns.boxplot(data=df, y=\"purchase_lead\", color='lightgreen')\n",
    "plt.ylabel(\"Purchase Lead Time\")\n",
    "plt.title(\"Box Plot of Purchase Lead Time\")\n",
    "\n",
    "# Display the box plot\n",
    "plt.tight_layout()\n",
    "plt.show()"
   ]
  },
  {
   "cell_type": "code",
   "execution_count": 18,
   "metadata": {},
   "outputs": [
    {
     "data": {
      "text/plain": [
       "False    49992\n",
       "True         8\n",
       "Name: purchase_lead, dtype: int64"
      ]
     },
     "execution_count": 18,
     "metadata": {},
     "output_type": "execute_result"
    }
   ],
   "source": [
    "(df.purchase_lead >600).value_counts()"
   ]
  },
  {
   "cell_type": "code",
   "execution_count": 19,
   "metadata": {},
   "outputs": [
    {
     "data": {
      "text/plain": [
       "array([ 19,  20,  22,  31,  48,  33,  30,  25,  43,  24,  17,  34,  18,\n",
       "        37,  29, 155,  88,  27,  21,  28,  47,  35,  82,  26,  90,  23,\n",
       "        84,  61,  40,  96,  69,  89,  58,  56, 110, 165, 111,  38, 207,\n",
       "        91,   1, 274,  44,  57, 106,  68,  87,  51, 196,  77,  41, 278,\n",
       "       108, 180,  72,  32,  62,  45,  50,  59, 125, 124,  46,  55,  60,\n",
       "        36,  65, 208, 204,  83,  42,  85,  64,  86,  54, 238, 275,  39,\n",
       "        95,  70,  93,  49, 107, 121, 203, 188,  78, 209, 126,  80, 200,\n",
       "       255,  63,  92, 118,  79, 181,  76,  94, 305, 149, 177, 183, 162,\n",
       "        71, 109,  52, 140,  66, 184, 152,  53, 291, 329,  75, 130, 142,\n",
       "       175,  73, 304, 186, 116, 101, 223, 415, 312, 143,  81, 144, 134,\n",
       "       135, 117, 120, 138, 153,  74, 261, 103, 104, 112, 157, 266,  98,\n",
       "       318,  67, 273, 105, 148, 102, 119, 122, 603, 465, 409, 128, 233,\n",
       "        99, 113, 147, 127,  97, 170, 156, 160, 182, 115, 158,   0, 357,\n",
       "       173, 228, 205, 178, 123, 352, 141, 139, 129, 301, 176, 332, 217,\n",
       "       358, 285, 163, 359, 348, 392, 179, 132, 431, 236, 353, 137, 146,\n",
       "       174, 224, 164, 306, 252, 171, 347, 185, 150, 361, 189, 343, 151,\n",
       "       133, 230, 215, 256, 365, 168, 335, 349, 355, 331, 199, 254, 100,\n",
       "       321, 245, 350, 326, 351, 356, 360, 262, 364, 229, 193, 194, 131,\n",
       "       114, 191, 235, 239, 225, 190, 166, 280, 136, 330, 169, 345, 362,\n",
       "       240, 145, 159, 267, 363, 192, 161, 322, 315, 289, 244, 327, 308,\n",
       "       610, 172, 260, 778, 167, 226, 379, 334, 313, 342, 284, 237, 532,\n",
       "       513, 201, 206, 221, 242, 369, 290, 297, 388, 282, 218, 286, 271,\n",
       "       259, 510, 272, 292, 197, 277, 268, 435, 276, 220, 338, 303, 222,\n",
       "       187, 247, 198, 195, 214, 337, 241, 311, 279, 316, 287, 478, 399,\n",
       "       210, 341, 250, 202, 573, 216, 211, 773, 339, 294, 154, 517, 462,\n",
       "       577, 231, 293, 213, 263,   2,   3,   4,   5,   6])"
      ]
     },
     "execution_count": 19,
     "metadata": {},
     "output_type": "execute_result"
    }
   ],
   "source": [
    "df['length_of_stay'].unique()"
   ]
  },
  {
   "cell_type": "code",
   "execution_count": 20,
   "metadata": {},
   "outputs": [
    {
     "data": {
      "image/png": "[encoded data removed]",
      "text/plain": [
       "<Figure size 720x432 with 1 Axes>"
      ]
     },
     "metadata": {},
     "output_type": "display_data"
    },
    {
     "data": {
      "image/png": "[encoded data removed]",
      "text/plain": [
       "<Figure size 720x432 with 1 Axes>"
      ]
     },
     "metadata": {},
     "output_type": "display_data"
    }
   ],
   "source": [
    "# Create a histogram\n",
    "plt.figure(figsize=(10, 6))\n",
    "sns.histplot(data=df, x=\"length_of_stay\", bins=30, kde=True, color='blue')\n",
    "plt.xlabel(\"Length of Stay\")\n",
    "plt.ylabel(\"Frequency\")\n",
    "plt.title(\"Distribution of Length of Stay\")\n",
    "\n",
    "# Display the histogram\n",
    "plt.tight_layout()\n",
    "plt.show()\n",
    "\n",
    "# Create a box plot\n",
    "plt.figure(figsize=(10, 6))\n",
    "sns.boxplot(data=df, y=\"length_of_stay\", color='lightgreen')\n",
    "plt.ylabel(\"Length of Stay\")\n",
    "plt.title(\"Box Plot of Length of Stay\")\n",
    "\n",
    "# Display the box plot\n",
    "plt.tight_layout()\n",
    "plt.show()"
   ]
  },
  {
   "cell_type": "code",
   "execution_count": 21,
   "metadata": {},
   "outputs": [
    {
     "data": {
      "text/plain": [
       "1    8102\n",
       "3    7674\n",
       "2    7673\n",
       "4    7424\n",
       "5    6761\n",
       "7    6554\n",
       "6    5812\n",
       "Name: flight_day, dtype: int64"
      ]
     },
     "execution_count": 21,
     "metadata": {},
     "output_type": "execute_result"
    }
   ],
   "source": [
    "# Number of flights on each days\n",
    "df.flight_day.value_counts()"
   ]
  },
  {
   "cell_type": "code",
   "execution_count": 22,
   "metadata": {},
   "outputs": [
    {
     "data": {
      "image/png": "[encoded data removed]",
      "text/plain": [
       "<Figure size 720x432 with 1 Axes>"
      ]
     },
     "metadata": {},
     "output_type": "display_data"
    }
   ],
   "source": [
    "flight_day_counts = df.flight_day.value_counts()\n",
    "\n",
    "# Create a bar plot\n",
    "plt.figure(figsize=(10, 6))\n",
    "bars = plt.bar(flight_day_counts.index, flight_day_counts.values, color='skyblue')\n",
    "plt.xlabel(\"Flight Day\")\n",
    "plt.ylabel(\"Count\")\n",
    "plt.title(\"Distribution of Flight Days\")\n",
    "\n",
    "# Add count labels on top of each bar\n",
    "for bar in bars:\n",
    "    plt.text(bar.get_x() + bar.get_width() / 2, bar.get_height(), str(int(bar.get_height())), ha='center', va='bottom', fontsize=10, color='black')\n",
    "\n",
    "# Display the bar plot\n",
    "plt.xticks(flight_day_counts.index)\n",
    "plt.tight_layout()\n",
    "plt.show()"
   ]
  },
  {
   "cell_type": "code",
   "execution_count": 23,
   "metadata": {},
   "outputs": [
    {
     "data": {
      "text/plain": [
       "Text(0, 0.5, 'Number of bookings')"
      ]
     },
     "execution_count": 23,
     "metadata": {},
     "output_type": "execute_result"
    },
    {
     "data": {
      "image/png": "[encoded data removed]",
      "text/plain": [
       "<Figure size 1080x360 with 1 Axes>"
      ]
     },
     "metadata": {},
     "output_type": "display_data"
    }
   ],
   "source": [
    "# Origin of the countries with most booking\n",
    "\n",
    "plt.figure(figsize=(15,5))\n",
    "ax = df.booking_origin.value_counts()[:19].plot(kind=\"bar\")\n",
    "ax.set_xlabel(\"Countries\")\n",
    "ax.set_ylabel(\"Number of bookings\")"
   ]
  },
  {
   "cell_type": "code",
   "execution_count": 24,
   "metadata": {},
   "outputs": [
    {
     "data": {
      "text/plain": [
       "Text(0, 0.5, 'Number of complete bookings')"
      ]
     },
     "execution_count": 24,
     "metadata": {},
     "output_type": "execute_result"
    },
    {
     "data": {
      "image/png": "[encoded data removed]",
      "text/plain": [
       "<Figure size 1080x360 with 1 Axes>"
      ]
     },
     "metadata": {},
     "output_type": "display_data"
    }
   ],
   "source": [
    "# Origin of the countries with most booking completed\n",
    "\n",
    "plt.figure(figsize=(15,5))\n",
    "ax = df[df.booking_complete ==1].booking_origin.value_counts()[:20].plot(kind=\"bar\")\n",
    "ax.set_xlabel(\"Countries\")\n",
    "ax.set_ylabel(\"Number of complete bookings\")"
   ]
  },
  {
   "cell_type": "code",
   "execution_count": 25,
   "metadata": {},
   "outputs": [
    {
     "data": {
      "image/png": "[encoded data removed]",
      "text/plain": [
       "<Figure size 576x432 with 1 Axes>"
      ]
     },
     "metadata": {},
     "output_type": "display_data"
    }
   ],
   "source": [
    "# Count the number of successful and unsuccessful bookings\n",
    "booking_complete_counts = df[\"booking_complete\"].value_counts()\n",
    "\n",
    "# Calculate the percentages\n",
    "total_bookings = booking_complete_counts.sum()\n",
    "successful_percentage = (booking_complete_counts[1] / total_bookings) * 100\n",
    "unsuccessful_percentage = (booking_complete_counts[0] / total_bookings) * 100\n",
    "\n",
    "# Create a pie chart\n",
    "plt.figure(figsize=(8, 6))\n",
    "labels = ['Successful', 'Unsuccessful']\n",
    "sizes = [successful_percentage, unsuccessful_percentage]\n",
    "colors = ['lightgreen', 'lightcoral']\n",
    "explode = (0.1, 0)  # Emphasize the successful slice\n",
    "plt.pie(sizes, labels=labels, colors=colors, autopct=\"%1.1f%%\", startangle=140, explode=explode, shadow=True)\n",
    "plt.axis(\"equal\")  # Equal aspect ratio ensures the pie chart is circular.\n",
    "\n",
    "# Add a title\n",
    "plt.title(\"Percentage of Successful and Unsuccessful Bookings\")\n",
    "\n",
    "# Display the pie chart\n",
    "plt.show()"
   ]
  },
  {
   "cell_type": "code",
   "execution_count": 26,
   "metadata": {},
   "outputs": [
    {
     "data": {
      "text/plain": [
       "False    49992\n",
       "True         8\n",
       "Name: purchase_lead, dtype: int64"
      ]
     },
     "execution_count": 26,
     "metadata": {},
     "output_type": "execute_result"
    }
   ],
   "source": [
    "(df.purchase_lead >600).value_counts()"
   ]
  },
  {
   "cell_type": "code",
   "execution_count": 27,
   "metadata": {},
   "outputs": [
    {
     "data": {
      "text/html": [
       "<div>\n",
       "<style scoped>\n",
       "    .dataframe tbody tr th:only-of-type {\n",
       "        vertical-align: middle;\n",
       "    }\n",
       "\n",
       "    .dataframe tbody tr th {\n",
       "        vertical-align: top;\n",
       "    }\n",
       "\n",
       "    .dataframe thead th {\n",
       "        text-align: right;\n",
       "    }\n",
       "</style>\n",
       "<table border=\"1\" class=\"dataframe\">\n",
       "  <thead>\n",
       "    <tr style=\"text-align: right;\">\n",
       "      <th></th>\n",
       "      <th>num_passengers</th>\n",
       "      <th>sales_channel</th>\n",
       "      <th>trip_type</th>\n",
       "      <th>purchase_lead</th>\n",
       "      <th>length_of_stay</th>\n",
       "      <th>flight_hour</th>\n",
       "      <th>flight_day</th>\n",
       "      <th>route</th>\n",
       "      <th>booking_origin</th>\n",
       "      <th>wants_extra_baggage</th>\n",
       "      <th>wants_preferred_seat</th>\n",
       "      <th>wants_in_flight_meals</th>\n",
       "      <th>flight_duration</th>\n",
       "      <th>booking_complete</th>\n",
       "    </tr>\n",
       "  </thead>\n",
       "  <tbody>\n",
       "    <tr>\n",
       "      <th>835</th>\n",
       "      <td>3</td>\n",
       "      <td>Internet</td>\n",
       "      <td>RoundTrip</td>\n",
       "      <td>641</td>\n",
       "      <td>46</td>\n",
       "      <td>6</td>\n",
       "      <td>7</td>\n",
       "      <td>AKLKUL</td>\n",
       "      <td>Malaysia</td>\n",
       "      <td>1</td>\n",
       "      <td>0</td>\n",
       "      <td>1</td>\n",
       "      <td>8.83</td>\n",
       "      <td>1</td>\n",
       "    </tr>\n",
       "    <tr>\n",
       "      <th>6148</th>\n",
       "      <td>1</td>\n",
       "      <td>Internet</td>\n",
       "      <td>RoundTrip</td>\n",
       "      <td>614</td>\n",
       "      <td>19</td>\n",
       "      <td>11</td>\n",
       "      <td>3</td>\n",
       "      <td>COKMEL</td>\n",
       "      <td>Australia</td>\n",
       "      <td>0</td>\n",
       "      <td>0</td>\n",
       "      <td>0</td>\n",
       "      <td>8.83</td>\n",
       "      <td>0</td>\n",
       "    </tr>\n",
       "    <tr>\n",
       "      <th>24119</th>\n",
       "      <td>1</td>\n",
       "      <td>Internet</td>\n",
       "      <td>RoundTrip</td>\n",
       "      <td>704</td>\n",
       "      <td>23</td>\n",
       "      <td>8</td>\n",
       "      <td>2</td>\n",
       "      <td>PNHSYD</td>\n",
       "      <td>Australia</td>\n",
       "      <td>0</td>\n",
       "      <td>0</td>\n",
       "      <td>0</td>\n",
       "      <td>8.58</td>\n",
       "      <td>0</td>\n",
       "    </tr>\n",
       "    <tr>\n",
       "      <th>38356</th>\n",
       "      <td>2</td>\n",
       "      <td>Internet</td>\n",
       "      <td>RoundTrip</td>\n",
       "      <td>633</td>\n",
       "      <td>5</td>\n",
       "      <td>10</td>\n",
       "      <td>6</td>\n",
       "      <td>HKTOOL</td>\n",
       "      <td>Australia</td>\n",
       "      <td>0</td>\n",
       "      <td>0</td>\n",
       "      <td>1</td>\n",
       "      <td>8.83</td>\n",
       "      <td>0</td>\n",
       "    </tr>\n",
       "    <tr>\n",
       "      <th>39417</th>\n",
       "      <td>1</td>\n",
       "      <td>Mobile</td>\n",
       "      <td>RoundTrip</td>\n",
       "      <td>625</td>\n",
       "      <td>5</td>\n",
       "      <td>15</td>\n",
       "      <td>5</td>\n",
       "      <td>ICNRGN</td>\n",
       "      <td>Myanmar (Burma)</td>\n",
       "      <td>0</td>\n",
       "      <td>0</td>\n",
       "      <td>0</td>\n",
       "      <td>6.62</td>\n",
       "      <td>0</td>\n",
       "    </tr>\n",
       "    <tr>\n",
       "      <th>42916</th>\n",
       "      <td>1</td>\n",
       "      <td>Mobile</td>\n",
       "      <td>RoundTrip</td>\n",
       "      <td>605</td>\n",
       "      <td>6</td>\n",
       "      <td>18</td>\n",
       "      <td>4</td>\n",
       "      <td>BLRMEL</td>\n",
       "      <td>India</td>\n",
       "      <td>0</td>\n",
       "      <td>0</td>\n",
       "      <td>0</td>\n",
       "      <td>8.83</td>\n",
       "      <td>0</td>\n",
       "    </tr>\n",
       "    <tr>\n",
       "      <th>46716</th>\n",
       "      <td>2</td>\n",
       "      <td>Internet</td>\n",
       "      <td>RoundTrip</td>\n",
       "      <td>606</td>\n",
       "      <td>6</td>\n",
       "      <td>6</td>\n",
       "      <td>5</td>\n",
       "      <td>HKTTPE</td>\n",
       "      <td>United States</td>\n",
       "      <td>0</td>\n",
       "      <td>0</td>\n",
       "      <td>1</td>\n",
       "      <td>4.67</td>\n",
       "      <td>0</td>\n",
       "    </tr>\n",
       "    <tr>\n",
       "      <th>48259</th>\n",
       "      <td>3</td>\n",
       "      <td>Internet</td>\n",
       "      <td>RoundTrip</td>\n",
       "      <td>867</td>\n",
       "      <td>6</td>\n",
       "      <td>7</td>\n",
       "      <td>1</td>\n",
       "      <td>KIXMLE</td>\n",
       "      <td>Japan</td>\n",
       "      <td>0</td>\n",
       "      <td>0</td>\n",
       "      <td>1</td>\n",
       "      <td>7.00</td>\n",
       "      <td>1</td>\n",
       "    </tr>\n",
       "  </tbody>\n",
       "</table>\n",
       "</div>"
      ],
      "text/plain": [
       "       num_passengers sales_channel  trip_type  purchase_lead  length_of_stay  \\\n",
       "835                 3      Internet  RoundTrip            641              46   \n",
       "6148                1      Internet  RoundTrip            614              19   \n",
       "24119               1      Internet  RoundTrip            704              23   \n",
       "38356               2      Internet  RoundTrip            633               5   \n",
       "39417               1        Mobile  RoundTrip            625               5   \n",
       "42916               1        Mobile  RoundTrip            605               6   \n",
       "46716               2      Internet  RoundTrip            606               6   \n",
       "48259               3      Internet  RoundTrip            867               6   \n",
       "\n",
       "       flight_hour  flight_day   route   booking_origin  wants_extra_baggage  \\\n",
       "835              6           7  AKLKUL         Malaysia                    1   \n",
       "6148            11           3  COKMEL        Australia                    0   \n",
       "24119            8           2  PNHSYD        Australia                    0   \n",
       "38356           10           6  HKTOOL        Australia                    0   \n",
       "39417           15           5  ICNRGN  Myanmar (Burma)                    0   \n",
       "42916           18           4  BLRMEL            India                    0   \n",
       "46716            6           5  HKTTPE    United States                    0   \n",
       "48259            7           1  KIXMLE            Japan                    0   \n",
       "\n",
       "       wants_preferred_seat  wants_in_flight_meals  flight_duration  \\\n",
       "835                       0                      1             8.83   \n",
       "6148                      0                      0             8.83   \n",
       "24119                     0                      0             8.58   \n",
       "38356                     0                      1             8.83   \n",
       "39417                     0                      0             6.62   \n",
       "42916                     0                      0             8.83   \n",
       "46716                     0                      1             4.67   \n",
       "48259                     0                      1             7.00   \n",
       "\n",
       "       booking_complete  \n",
       "835                   1  \n",
       "6148                  0  \n",
       "24119                 0  \n",
       "38356                 0  \n",
       "39417                 0  \n",
       "42916                 0  \n",
       "46716                 0  \n",
       "48259                 1  "
      ]
     },
     "execution_count": 27,
     "metadata": {},
     "output_type": "execute_result"
    }
   ],
   "source": [
    "df[df.purchase_lead > 600]"
   ]
  },
  {
   "cell_type": "code",
   "execution_count": 28,
   "metadata": {},
   "outputs": [],
   "source": [
    "#filtering the data to have only purchase lead days less than 600 days\n",
    "df = df[df.purchase_lead <600 ]"
   ]
  },
  {
   "cell_type": "code",
   "execution_count": 29,
   "metadata": {},
   "outputs": [
    {
     "name": "stdout",
     "output_type": "stream",
     "text": [
      "<class 'pandas.core.frame.DataFrame'>\n",
      "Int64Index: 49992 entries, 0 to 49999\n",
      "Data columns (total 14 columns):\n",
      " #   Column                 Non-Null Count  Dtype  \n",
      "---  ------                 --------------  -----  \n",
      " 0   num_passengers         49992 non-null  int64  \n",
      " 1   sales_channel          49992 non-null  object \n",
      " 2   trip_type              49992 non-null  object \n",
      " 3   purchase_lead          49992 non-null  int64  \n",
      " 4   length_of_stay         49992 non-null  int64  \n",
      " 5   flight_hour            49992 non-null  int64  \n",
      " 6   flight_day             49992 non-null  int64  \n",
      " 7   route                  49992 non-null  object \n",
      " 8   booking_origin         49992 non-null  object \n",
      " 9   wants_extra_baggage    49992 non-null  int64  \n",
      " 10  wants_preferred_seat   49992 non-null  int64  \n",
      " 11  wants_in_flight_meals  49992 non-null  int64  \n",
      " 12  flight_duration        49992 non-null  float64\n",
      " 13  booking_complete       49992 non-null  int64  \n",
      "dtypes: float64(1), int64(9), object(4)\n",
      "memory usage: 5.7+ MB\n"
     ]
    }
   ],
   "source": [
    "df.info()"
   ]
  },
  {
   "cell_type": "code",
   "execution_count": 30,
   "metadata": {},
   "outputs": [
    {
     "data": {
      "text/plain": [
       "False    49982\n",
       "True        10\n",
       "Name: length_of_stay, dtype: int64"
      ]
     },
     "execution_count": 30,
     "metadata": {},
     "output_type": "execute_result"
    }
   ],
   "source": [
    "(df.length_of_stay> 500).value_counts()"
   ]
  },
  {
   "cell_type": "code",
   "execution_count": 31,
   "metadata": {},
   "outputs": [
    {
     "data": {
      "text/html": [
       "<div>\n",
       "<style scoped>\n",
       "    .dataframe tbody tr th:only-of-type {\n",
       "        vertical-align: middle;\n",
       "    }\n",
       "\n",
       "    .dataframe tbody tr th {\n",
       "        vertical-align: top;\n",
       "    }\n",
       "\n",
       "    .dataframe thead th {\n",
       "        text-align: right;\n",
       "    }\n",
       "</style>\n",
       "<table border=\"1\" class=\"dataframe\">\n",
       "  <thead>\n",
       "    <tr style=\"text-align: right;\">\n",
       "      <th></th>\n",
       "      <th>num_passengers</th>\n",
       "      <th>sales_channel</th>\n",
       "      <th>trip_type</th>\n",
       "      <th>purchase_lead</th>\n",
       "      <th>length_of_stay</th>\n",
       "      <th>flight_hour</th>\n",
       "      <th>flight_day</th>\n",
       "      <th>route</th>\n",
       "      <th>booking_origin</th>\n",
       "      <th>wants_extra_baggage</th>\n",
       "      <th>wants_preferred_seat</th>\n",
       "      <th>wants_in_flight_meals</th>\n",
       "      <th>flight_duration</th>\n",
       "      <th>booking_complete</th>\n",
       "    </tr>\n",
       "  </thead>\n",
       "  <tbody>\n",
       "    <tr>\n",
       "      <th>1583</th>\n",
       "      <td>2</td>\n",
       "      <td>Internet</td>\n",
       "      <td>RoundTrip</td>\n",
       "      <td>32</td>\n",
       "      <td>603</td>\n",
       "      <td>0</td>\n",
       "      <td>4</td>\n",
       "      <td>AKLKUL</td>\n",
       "      <td>Malaysia</td>\n",
       "      <td>0</td>\n",
       "      <td>0</td>\n",
       "      <td>0</td>\n",
       "      <td>8.83</td>\n",
       "      <td>0</td>\n",
       "    </tr>\n",
       "    <tr>\n",
       "      <th>10294</th>\n",
       "      <td>1</td>\n",
       "      <td>Internet</td>\n",
       "      <td>RoundTrip</td>\n",
       "      <td>10</td>\n",
       "      <td>610</td>\n",
       "      <td>2</td>\n",
       "      <td>1</td>\n",
       "      <td>DMKSYD</td>\n",
       "      <td>Australia</td>\n",
       "      <td>1</td>\n",
       "      <td>1</td>\n",
       "      <td>0</td>\n",
       "      <td>8.58</td>\n",
       "      <td>0</td>\n",
       "    </tr>\n",
       "    <tr>\n",
       "      <th>10821</th>\n",
       "      <td>1</td>\n",
       "      <td>Internet</td>\n",
       "      <td>RoundTrip</td>\n",
       "      <td>102</td>\n",
       "      <td>778</td>\n",
       "      <td>8</td>\n",
       "      <td>3</td>\n",
       "      <td>DPSMEL</td>\n",
       "      <td>Australia</td>\n",
       "      <td>0</td>\n",
       "      <td>0</td>\n",
       "      <td>0</td>\n",
       "      <td>8.83</td>\n",
       "      <td>1</td>\n",
       "    </tr>\n",
       "    <tr>\n",
       "      <th>13214</th>\n",
       "      <td>1</td>\n",
       "      <td>Internet</td>\n",
       "      <td>RoundTrip</td>\n",
       "      <td>20</td>\n",
       "      <td>532</td>\n",
       "      <td>11</td>\n",
       "      <td>4</td>\n",
       "      <td>HYDPER</td>\n",
       "      <td>India</td>\n",
       "      <td>1</td>\n",
       "      <td>0</td>\n",
       "      <td>1</td>\n",
       "      <td>5.62</td>\n",
       "      <td>0</td>\n",
       "    </tr>\n",
       "    <tr>\n",
       "      <th>13439</th>\n",
       "      <td>1</td>\n",
       "      <td>Mobile</td>\n",
       "      <td>RoundTrip</td>\n",
       "      <td>18</td>\n",
       "      <td>513</td>\n",
       "      <td>10</td>\n",
       "      <td>6</td>\n",
       "      <td>HYDSYD</td>\n",
       "      <td>India</td>\n",
       "      <td>1</td>\n",
       "      <td>1</td>\n",
       "      <td>1</td>\n",
       "      <td>8.58</td>\n",
       "      <td>0</td>\n",
       "    </tr>\n",
       "    <tr>\n",
       "      <th>14828</th>\n",
       "      <td>1</td>\n",
       "      <td>Internet</td>\n",
       "      <td>RoundTrip</td>\n",
       "      <td>112</td>\n",
       "      <td>510</td>\n",
       "      <td>23</td>\n",
       "      <td>4</td>\n",
       "      <td>IKAMEL</td>\n",
       "      <td>Australia</td>\n",
       "      <td>1</td>\n",
       "      <td>1</td>\n",
       "      <td>1</td>\n",
       "      <td>8.83</td>\n",
       "      <td>0</td>\n",
       "    </tr>\n",
       "    <tr>\n",
       "      <th>21582</th>\n",
       "      <td>1</td>\n",
       "      <td>Internet</td>\n",
       "      <td>RoundTrip</td>\n",
       "      <td>9</td>\n",
       "      <td>573</td>\n",
       "      <td>11</td>\n",
       "      <td>4</td>\n",
       "      <td>OOLPNH</td>\n",
       "      <td>Australia</td>\n",
       "      <td>1</td>\n",
       "      <td>1</td>\n",
       "      <td>1</td>\n",
       "      <td>8.83</td>\n",
       "      <td>0</td>\n",
       "    </tr>\n",
       "    <tr>\n",
       "      <th>22081</th>\n",
       "      <td>2</td>\n",
       "      <td>Internet</td>\n",
       "      <td>RoundTrip</td>\n",
       "      <td>11</td>\n",
       "      <td>773</td>\n",
       "      <td>16</td>\n",
       "      <td>6</td>\n",
       "      <td>OOLTPE</td>\n",
       "      <td>Taiwan</td>\n",
       "      <td>1</td>\n",
       "      <td>0</td>\n",
       "      <td>1</td>\n",
       "      <td>8.83</td>\n",
       "      <td>0</td>\n",
       "    </tr>\n",
       "    <tr>\n",
       "      <th>23179</th>\n",
       "      <td>1</td>\n",
       "      <td>Internet</td>\n",
       "      <td>RoundTrip</td>\n",
       "      <td>65</td>\n",
       "      <td>517</td>\n",
       "      <td>14</td>\n",
       "      <td>2</td>\n",
       "      <td>PERPNH</td>\n",
       "      <td>Australia</td>\n",
       "      <td>1</td>\n",
       "      <td>1</td>\n",
       "      <td>1</td>\n",
       "      <td>5.62</td>\n",
       "      <td>0</td>\n",
       "    </tr>\n",
       "    <tr>\n",
       "      <th>24154</th>\n",
       "      <td>1</td>\n",
       "      <td>Internet</td>\n",
       "      <td>RoundTrip</td>\n",
       "      <td>367</td>\n",
       "      <td>577</td>\n",
       "      <td>2</td>\n",
       "      <td>1</td>\n",
       "      <td>PNHSYD</td>\n",
       "      <td>Australia</td>\n",
       "      <td>0</td>\n",
       "      <td>0</td>\n",
       "      <td>1</td>\n",
       "      <td>8.58</td>\n",
       "      <td>0</td>\n",
       "    </tr>\n",
       "  </tbody>\n",
       "</table>\n",
       "</div>"
      ],
      "text/plain": [
       "       num_passengers sales_channel  trip_type  purchase_lead  length_of_stay  \\\n",
       "1583                2      Internet  RoundTrip             32             603   \n",
       "10294               1      Internet  RoundTrip             10             610   \n",
       "10821               1      Internet  RoundTrip            102             778   \n",
       "13214               1      Internet  RoundTrip             20             532   \n",
       "13439               1        Mobile  RoundTrip             18             513   \n",
       "14828               1      Internet  RoundTrip            112             510   \n",
       "21582               1      Internet  RoundTrip              9             573   \n",
       "22081               2      Internet  RoundTrip             11             773   \n",
       "23179               1      Internet  RoundTrip             65             517   \n",
       "24154               1      Internet  RoundTrip            367             577   \n",
       "\n",
       "       flight_hour  flight_day   route booking_origin  wants_extra_baggage  \\\n",
       "1583             0           4  AKLKUL       Malaysia                    0   \n",
       "10294            2           1  DMKSYD      Australia                    1   \n",
       "10821            8           3  DPSMEL      Australia                    0   \n",
       "13214           11           4  HYDPER          India                    1   \n",
       "13439           10           6  HYDSYD          India                    1   \n",
       "14828           23           4  IKAMEL      Australia                    1   \n",
       "21582           11           4  OOLPNH      Australia                    1   \n",
       "22081           16           6  OOLTPE         Taiwan                    1   \n",
       "23179           14           2  PERPNH      Australia                    1   \n",
       "24154            2           1  PNHSYD      Australia                    0   \n",
       "\n",
       "       wants_preferred_seat  wants_in_flight_meals  flight_duration  \\\n",
       "1583                      0                      0             8.83   \n",
       "10294                     1                      0             8.58   \n",
       "10821                     0                      0             8.83   \n",
       "13214                     0                      1             5.62   \n",
       "13439                     1                      1             8.58   \n",
       "14828                     1                      1             8.83   \n",
       "21582                     1                      1             8.83   \n",
       "22081                     0                      1             8.83   \n",
       "23179                     1                      1             5.62   \n",
       "24154                     0                      1             8.58   \n",
       "\n",
       "       booking_complete  \n",
       "1583                  0  \n",
       "10294                 0  \n",
       "10821                 1  \n",
       "13214                 0  \n",
       "13439                 0  \n",
       "14828                 0  \n",
       "21582                 0  \n",
       "22081                 0  \n",
       "23179                 0  \n",
       "24154                 0  "
      ]
     },
     "execution_count": 31,
     "metadata": {},
     "output_type": "execute_result"
    }
   ],
   "source": [
    "df[df.length_of_stay > 500]"
   ]
  },
  {
   "cell_type": "code",
   "execution_count": 32,
   "metadata": {},
   "outputs": [],
   "source": [
    "#filtering the data to have only length of stay days less than 500 days\n",
    "df = df[df.purchase_lead <500 ]"
   ]
  },
  {
   "cell_type": "code",
   "execution_count": 33,
   "metadata": {},
   "outputs": [
    {
     "name": "stdout",
     "output_type": "stream",
     "text": [
      "<class 'pandas.core.frame.DataFrame'>\n",
      "Int64Index: 49982 entries, 0 to 49999\n",
      "Data columns (total 14 columns):\n",
      " #   Column                 Non-Null Count  Dtype  \n",
      "---  ------                 --------------  -----  \n",
      " 0   num_passengers         49982 non-null  int64  \n",
      " 1   sales_channel          49982 non-null  object \n",
      " 2   trip_type              49982 non-null  object \n",
      " 3   purchase_lead          49982 non-null  int64  \n",
      " 4   length_of_stay         49982 non-null  int64  \n",
      " 5   flight_hour            49982 non-null  int64  \n",
      " 6   flight_day             49982 non-null  int64  \n",
      " 7   route                  49982 non-null  object \n",
      " 8   booking_origin         49982 non-null  object \n",
      " 9   wants_extra_baggage    49982 non-null  int64  \n",
      " 10  wants_preferred_seat   49982 non-null  int64  \n",
      " 11  wants_in_flight_meals  49982 non-null  int64  \n",
      " 12  flight_duration        49982 non-null  float64\n",
      " 13  booking_complete       49982 non-null  int64  \n",
      "dtypes: float64(1), int64(9), object(4)\n",
      "memory usage: 5.7+ MB\n"
     ]
    }
   ],
   "source": [
    "df.info()"
   ]
  },
  {
   "cell_type": "code",
   "execution_count": 34,
   "metadata": {},
   "outputs": [],
   "source": [
    "# Drop the 'route' column\n",
    "df = df.drop(columns=['route','booking_origin'])\n",
    "\n",
    "# Convert categorical variables using one-hot encoding\n",
    "categorical_columns = ['sales_channel', 'trip_type']\n",
    "df = pd.get_dummies(df, columns=categorical_columns, drop_first=True)"
   ]
  },
  {
   "cell_type": "code",
   "execution_count": 35,
   "metadata": {},
   "outputs": [
    {
     "data": {
      "text/html": [
       "<div>\n",
       "<style scoped>\n",
       "    .dataframe tbody tr th:only-of-type {\n",
       "        vertical-align: middle;\n",
       "    }\n",
       "\n",
       "    .dataframe tbody tr th {\n",
       "        vertical-align: top;\n",
       "    }\n",
       "\n",
       "    .dataframe thead th {\n",
       "        text-align: right;\n",
       "    }\n",
       "</style>\n",
       "<table border=\"1\" class=\"dataframe\">\n",
       "  <thead>\n",
       "    <tr style=\"text-align: right;\">\n",
       "      <th></th>\n",
       "      <th>num_passengers</th>\n",
       "      <th>purchase_lead</th>\n",
       "      <th>length_of_stay</th>\n",
       "      <th>flight_hour</th>\n",
       "      <th>flight_day</th>\n",
       "      <th>wants_extra_baggage</th>\n",
       "      <th>wants_preferred_seat</th>\n",
       "      <th>wants_in_flight_meals</th>\n",
       "      <th>flight_duration</th>\n",
       "      <th>booking_complete</th>\n",
       "      <th>sales_channel_Mobile</th>\n",
       "      <th>trip_type_OneWay</th>\n",
       "      <th>trip_type_RoundTrip</th>\n",
       "    </tr>\n",
       "  </thead>\n",
       "  <tbody>\n",
       "    <tr>\n",
       "      <th>0</th>\n",
       "      <td>2</td>\n",
       "      <td>262</td>\n",
       "      <td>19</td>\n",
       "      <td>7</td>\n",
       "      <td>6</td>\n",
       "      <td>1</td>\n",
       "      <td>0</td>\n",
       "      <td>0</td>\n",
       "      <td>5.52</td>\n",
       "      <td>0</td>\n",
       "      <td>0</td>\n",
       "      <td>0</td>\n",
       "      <td>1</td>\n",
       "    </tr>\n",
       "    <tr>\n",
       "      <th>1</th>\n",
       "      <td>1</td>\n",
       "      <td>112</td>\n",
       "      <td>20</td>\n",
       "      <td>3</td>\n",
       "      <td>6</td>\n",
       "      <td>0</td>\n",
       "      <td>0</td>\n",
       "      <td>0</td>\n",
       "      <td>5.52</td>\n",
       "      <td>0</td>\n",
       "      <td>0</td>\n",
       "      <td>0</td>\n",
       "      <td>1</td>\n",
       "    </tr>\n",
       "    <tr>\n",
       "      <th>2</th>\n",
       "      <td>2</td>\n",
       "      <td>243</td>\n",
       "      <td>22</td>\n",
       "      <td>17</td>\n",
       "      <td>3</td>\n",
       "      <td>1</td>\n",
       "      <td>1</td>\n",
       "      <td>0</td>\n",
       "      <td>5.52</td>\n",
       "      <td>0</td>\n",
       "      <td>0</td>\n",
       "      <td>0</td>\n",
       "      <td>1</td>\n",
       "    </tr>\n",
       "    <tr>\n",
       "      <th>3</th>\n",
       "      <td>1</td>\n",
       "      <td>96</td>\n",
       "      <td>31</td>\n",
       "      <td>4</td>\n",
       "      <td>6</td>\n",
       "      <td>0</td>\n",
       "      <td>0</td>\n",
       "      <td>1</td>\n",
       "      <td>5.52</td>\n",
       "      <td>0</td>\n",
       "      <td>0</td>\n",
       "      <td>0</td>\n",
       "      <td>1</td>\n",
       "    </tr>\n",
       "    <tr>\n",
       "      <th>4</th>\n",
       "      <td>2</td>\n",
       "      <td>68</td>\n",
       "      <td>22</td>\n",
       "      <td>15</td>\n",
       "      <td>3</td>\n",
       "      <td>1</td>\n",
       "      <td>0</td>\n",
       "      <td>1</td>\n",
       "      <td>5.52</td>\n",
       "      <td>0</td>\n",
       "      <td>0</td>\n",
       "      <td>0</td>\n",
       "      <td>1</td>\n",
       "    </tr>\n",
       "  </tbody>\n",
       "</table>\n",
       "</div>"
      ],
      "text/plain": [
       "   num_passengers  purchase_lead  length_of_stay  flight_hour  flight_day  \\\n",
       "0               2            262              19            7           6   \n",
       "1               1            112              20            3           6   \n",
       "2               2            243              22           17           3   \n",
       "3               1             96              31            4           6   \n",
       "4               2             68              22           15           3   \n",
       "\n",
       "   wants_extra_baggage  wants_preferred_seat  wants_in_flight_meals  \\\n",
       "0                    1                     0                      0   \n",
       "1                    0                     0                      0   \n",
       "2                    1                     1                      0   \n",
       "3                    0                     0                      1   \n",
       "4                    1                     0                      1   \n",
       "\n",
       "   flight_duration  booking_complete  sales_channel_Mobile  trip_type_OneWay  \\\n",
       "0             5.52                 0                     0                 0   \n",
       "1             5.52                 0                     0                 0   \n",
       "2             5.52                 0                     0                 0   \n",
       "3             5.52                 0                     0                 0   \n",
       "4             5.52                 0                     0                 0   \n",
       "\n",
       "   trip_type_RoundTrip  \n",
       "0                    1  \n",
       "1                    1  \n",
       "2                    1  \n",
       "3                    1  \n",
       "4                    1  "
      ]
     },
     "execution_count": 35,
     "metadata": {},
     "output_type": "execute_result"
    }
   ],
   "source": [
    "df.head()"
   ]
  },
  {
   "cell_type": "code",
   "execution_count": 36,
   "metadata": {},
   "outputs": [
    {
     "name": "stdout",
     "output_type": "stream",
     "text": [
      "<class 'pandas.core.frame.DataFrame'>\n",
      "Int64Index: 49982 entries, 0 to 49999\n",
      "Data columns (total 13 columns):\n",
      " #   Column                 Non-Null Count  Dtype  \n",
      "---  ------                 --------------  -----  \n",
      " 0   num_passengers         49982 non-null  int64  \n",
      " 1   purchase_lead          49982 non-null  int64  \n",
      " 2   length_of_stay         49982 non-null  int64  \n",
      " 3   flight_hour            49982 non-null  int64  \n",
      " 4   flight_day             49982 non-null  int64  \n",
      " 5   wants_extra_baggage    49982 non-null  int64  \n",
      " 6   wants_preferred_seat   49982 non-null  int64  \n",
      " 7   wants_in_flight_meals  49982 non-null  int64  \n",
      " 8   flight_duration        49982 non-null  float64\n",
      " 9   booking_complete       49982 non-null  int64  \n",
      " 10  sales_channel_Mobile   49982 non-null  uint8  \n",
      " 11  trip_type_OneWay       49982 non-null  uint8  \n",
      " 12  trip_type_RoundTrip    49982 non-null  uint8  \n",
      "dtypes: float64(1), int64(9), uint8(3)\n",
      "memory usage: 4.3 MB\n"
     ]
    }
   ],
   "source": [
    "df.info()"
   ]
  },
  {
   "cell_type": "code",
   "execution_count": 37,
   "metadata": {},
   "outputs": [],
   "source": [
    "# Convert uint8 columns to int or float\n",
    "columns_to_convert = ['sales_channel_Mobile', 'trip_type_OneWay', 'trip_type_RoundTrip']\n",
    "df[columns_to_convert] = df[columns_to_convert].astype(int)"
   ]
  },
  {
   "cell_type": "code",
   "execution_count": 38,
   "metadata": {},
   "outputs": [
    {
     "name": "stdout",
     "output_type": "stream",
     "text": [
      "<class 'pandas.core.frame.DataFrame'>\n",
      "Int64Index: 49982 entries, 0 to 49999\n",
      "Data columns (total 13 columns):\n",
      " #   Column                 Non-Null Count  Dtype  \n",
      "---  ------                 --------------  -----  \n",
      " 0   num_passengers         49982 non-null  int64  \n",
      " 1   purchase_lead          49982 non-null  int64  \n",
      " 2   length_of_stay         49982 non-null  int64  \n",
      " 3   flight_hour            49982 non-null  int64  \n",
      " 4   flight_day             49982 non-null  int64  \n",
      " 5   wants_extra_baggage    49982 non-null  int64  \n",
      " 6   wants_preferred_seat   49982 non-null  int64  \n",
      " 7   wants_in_flight_meals  49982 non-null  int64  \n",
      " 8   flight_duration        49982 non-null  float64\n",
      " 9   booking_complete       49982 non-null  int64  \n",
      " 10  sales_channel_Mobile   49982 non-null  int64  \n",
      " 11  trip_type_OneWay       49982 non-null  int64  \n",
      " 12  trip_type_RoundTrip    49982 non-null  int64  \n",
      "dtypes: float64(1), int64(12)\n",
      "memory usage: 5.3 MB\n"
     ]
    }
   ],
   "source": [
    "df.info()"
   ]
  },
  {
   "cell_type": "code",
   "execution_count": 39,
   "metadata": {},
   "outputs": [],
   "source": [
    "#store the label for supervised learning\n",
    "label = df['booking_complete']"
   ]
  },
  {
   "cell_type": "code",
   "execution_count": 40,
   "metadata": {},
   "outputs": [],
   "source": [
    "df_final = df.drop('booking_complete', axis=1)"
   ]
  },
  {
   "cell_type": "code",
   "execution_count": 41,
   "metadata": {},
   "outputs": [
    {
     "name": "stdout",
     "output_type": "stream",
     "text": [
      "<class 'pandas.core.frame.DataFrame'>\n",
      "Int64Index: 49982 entries, 0 to 49999\n",
      "Data columns (total 12 columns):\n",
      " #   Column                 Non-Null Count  Dtype  \n",
      "---  ------                 --------------  -----  \n",
      " 0   num_passengers         49982 non-null  int64  \n",
      " 1   purchase_lead          49982 non-null  int64  \n",
      " 2   length_of_stay         49982 non-null  int64  \n",
      " 3   flight_hour            49982 non-null  int64  \n",
      " 4   flight_day             49982 non-null  int64  \n",
      " 5   wants_extra_baggage    49982 non-null  int64  \n",
      " 6   wants_preferred_seat   49982 non-null  int64  \n",
      " 7   wants_in_flight_meals  49982 non-null  int64  \n",
      " 8   flight_duration        49982 non-null  float64\n",
      " 9   sales_channel_Mobile   49982 non-null  int64  \n",
      " 10  trip_type_OneWay       49982 non-null  int64  \n",
      " 11  trip_type_RoundTrip    49982 non-null  int64  \n",
      "dtypes: float64(1), int64(11)\n",
      "memory usage: 5.0 MB\n"
     ]
    }
   ],
   "source": [
    "df_final.info()"
   ]
  },
  {
   "cell_type": "code",
   "execution_count": 42,
   "metadata": {},
   "outputs": [],
   "source": [
    "# Select columns to scale\n",
    "columns_to_scale = ['num_passengers', 'purchase_lead', 'length_of_stay', 'flight_hour', 'flight_day',\n",
    "                    'wants_extra_baggage', 'wants_preferred_seat', 'wants_in_flight_meals',\n",
    "                    'flight_duration', 'sales_channel_Mobile', 'trip_type_OneWay', 'trip_type_RoundTrip']\n",
    "\n",
    "# Initialize the StandardScaler\n",
    "scaler = StandardScaler()\n",
    "\n",
    "# Fit and transform the selected columns\n",
    "df_final[columns_to_scale] = scaler.fit_transform(df_final[columns_to_scale])"
   ]
  },
  {
   "cell_type": "code",
   "execution_count": 43,
   "metadata": {},
   "outputs": [
    {
     "data": {
      "text/html": [
       "<div>\n",
       "<style scoped>\n",
       "    .dataframe tbody tr th:only-of-type {\n",
       "        vertical-align: middle;\n",
       "    }\n",
       "\n",
       "    .dataframe tbody tr th {\n",
       "        vertical-align: top;\n",
       "    }\n",
       "\n",
       "    .dataframe thead th {\n",
       "        text-align: right;\n",
       "    }\n",
       "</style>\n",
       "<table border=\"1\" class=\"dataframe\">\n",
       "  <thead>\n",
       "    <tr style=\"text-align: right;\">\n",
       "      <th></th>\n",
       "      <th>num_passengers</th>\n",
       "      <th>purchase_lead</th>\n",
       "      <th>length_of_stay</th>\n",
       "      <th>flight_hour</th>\n",
       "      <th>flight_day</th>\n",
       "      <th>wants_extra_baggage</th>\n",
       "      <th>wants_preferred_seat</th>\n",
       "      <th>wants_in_flight_meals</th>\n",
       "      <th>flight_duration</th>\n",
       "      <th>sales_channel_Mobile</th>\n",
       "      <th>trip_type_OneWay</th>\n",
       "      <th>trip_type_RoundTrip</th>\n",
       "    </tr>\n",
       "  </thead>\n",
       "  <tbody>\n",
       "    <tr>\n",
       "      <th>0</th>\n",
       "      <td>0.400769</td>\n",
       "      <td>1.971093</td>\n",
       "      <td>-0.119401</td>\n",
       "      <td>-0.381588</td>\n",
       "      <td>1.096876</td>\n",
       "      <td>0.703587</td>\n",
       "      <td>-0.650054</td>\n",
       "      <td>-0.863557</td>\n",
       "      <td>-1.174049</td>\n",
       "      <td>-0.355786</td>\n",
       "      <td>-0.088336</td>\n",
       "      <td>0.100826</td>\n",
       "    </tr>\n",
       "    <tr>\n",
       "      <th>1</th>\n",
       "      <td>-0.579424</td>\n",
       "      <td>0.302987</td>\n",
       "      <td>-0.089895</td>\n",
       "      <td>-1.120618</td>\n",
       "      <td>1.096876</td>\n",
       "      <td>-1.421288</td>\n",
       "      <td>-0.650054</td>\n",
       "      <td>-0.863557</td>\n",
       "      <td>-1.174049</td>\n",
       "      <td>-0.355786</td>\n",
       "      <td>-0.088336</td>\n",
       "      <td>0.100826</td>\n",
       "    </tr>\n",
       "    <tr>\n",
       "      <th>2</th>\n",
       "      <td>0.400769</td>\n",
       "      <td>1.759799</td>\n",
       "      <td>-0.030885</td>\n",
       "      <td>1.465988</td>\n",
       "      <td>-0.408618</td>\n",
       "      <td>0.703587</td>\n",
       "      <td>1.538334</td>\n",
       "      <td>-0.863557</td>\n",
       "      <td>-1.174049</td>\n",
       "      <td>-0.355786</td>\n",
       "      <td>-0.088336</td>\n",
       "      <td>0.100826</td>\n",
       "    </tr>\n",
       "    <tr>\n",
       "      <th>3</th>\n",
       "      <td>-0.579424</td>\n",
       "      <td>0.125056</td>\n",
       "      <td>0.234662</td>\n",
       "      <td>-0.935861</td>\n",
       "      <td>1.096876</td>\n",
       "      <td>-1.421288</td>\n",
       "      <td>-0.650054</td>\n",
       "      <td>1.158002</td>\n",
       "      <td>-1.174049</td>\n",
       "      <td>-0.355786</td>\n",
       "      <td>-0.088336</td>\n",
       "      <td>0.100826</td>\n",
       "    </tr>\n",
       "    <tr>\n",
       "      <th>4</th>\n",
       "      <td>0.400769</td>\n",
       "      <td>-0.186323</td>\n",
       "      <td>-0.030885</td>\n",
       "      <td>1.096473</td>\n",
       "      <td>-0.408618</td>\n",
       "      <td>0.703587</td>\n",
       "      <td>-0.650054</td>\n",
       "      <td>1.158002</td>\n",
       "      <td>-1.174049</td>\n",
       "      <td>-0.355786</td>\n",
       "      <td>-0.088336</td>\n",
       "      <td>0.100826</td>\n",
       "    </tr>\n",
       "  </tbody>\n",
       "</table>\n",
       "</div>"
      ],
      "text/plain": [
       "   num_passengers  purchase_lead  length_of_stay  flight_hour  flight_day  \\\n",
       "0        0.400769       1.971093       -0.119401    -0.381588    1.096876   \n",
       "1       -0.579424       0.302987       -0.089895    -1.120618    1.096876   \n",
       "2        0.400769       1.759799       -0.030885     1.465988   -0.408618   \n",
       "3       -0.579424       0.125056        0.234662    -0.935861    1.096876   \n",
       "4        0.400769      -0.186323       -0.030885     1.096473   -0.408618   \n",
       "\n",
       "   wants_extra_baggage  wants_preferred_seat  wants_in_flight_meals  \\\n",
       "0             0.703587             -0.650054              -0.863557   \n",
       "1            -1.421288             -0.650054              -0.863557   \n",
       "2             0.703587              1.538334              -0.863557   \n",
       "3            -1.421288             -0.650054               1.158002   \n",
       "4             0.703587             -0.650054               1.158002   \n",
       "\n",
       "   flight_duration  sales_channel_Mobile  trip_type_OneWay  \\\n",
       "0        -1.174049             -0.355786         -0.088336   \n",
       "1        -1.174049             -0.355786         -0.088336   \n",
       "2        -1.174049             -0.355786         -0.088336   \n",
       "3        -1.174049             -0.355786         -0.088336   \n",
       "4        -1.174049             -0.355786         -0.088336   \n",
       "\n",
       "   trip_type_RoundTrip  \n",
       "0             0.100826  \n",
       "1             0.100826  \n",
       "2             0.100826  \n",
       "3             0.100826  \n",
       "4             0.100826  "
      ]
     },
     "execution_count": 43,
     "metadata": {},
     "output_type": "execute_result"
    }
   ],
   "source": [
    "df_final.head()"
   ]
  },
  {
   "cell_type": "code",
   "execution_count": 44,
   "metadata": {},
   "outputs": [],
   "source": [
    "df_final['label'] = label"
   ]
  },
  {
   "cell_type": "code",
   "execution_count": 45,
   "metadata": {},
   "outputs": [
    {
     "name": "stdout",
     "output_type": "stream",
     "text": [
      "<class 'pandas.core.frame.DataFrame'>\n",
      "Int64Index: 49982 entries, 0 to 49999\n",
      "Data columns (total 13 columns):\n",
      " #   Column                 Non-Null Count  Dtype  \n",
      "---  ------                 --------------  -----  \n",
      " 0   num_passengers         49982 non-null  float64\n",
      " 1   purchase_lead          49982 non-null  float64\n",
      " 2   length_of_stay         49982 non-null  float64\n",
      " 3   flight_hour            49982 non-null  float64\n",
      " 4   flight_day             49982 non-null  float64\n",
      " 5   wants_extra_baggage    49982 non-null  float64\n",
      " 6   wants_preferred_seat   49982 non-null  float64\n",
      " 7   wants_in_flight_meals  49982 non-null  float64\n",
      " 8   flight_duration        49982 non-null  float64\n",
      " 9   sales_channel_Mobile   49982 non-null  float64\n",
      " 10  trip_type_OneWay       49982 non-null  float64\n",
      " 11  trip_type_RoundTrip    49982 non-null  float64\n",
      " 12  label                  49982 non-null  int64  \n",
      "dtypes: float64(12), int64(1)\n",
      "memory usage: 5.3 MB\n"
     ]
    }
   ],
   "source": [
    "df_final.info()"
   ]
  },
  {
   "cell_type": "code",
   "execution_count": 46,
   "metadata": {},
   "outputs": [
    {
     "data": {
      "text/html": [
       "<div>\n",
       "<style scoped>\n",
       "    .dataframe tbody tr th:only-of-type {\n",
       "        vertical-align: middle;\n",
       "    }\n",
       "\n",
       "    .dataframe tbody tr th {\n",
       "        vertical-align: top;\n",
       "    }\n",
       "\n",
       "    .dataframe thead th {\n",
       "        text-align: right;\n",
       "    }\n",
       "</style>\n",
       "<table border=\"1\" class=\"dataframe\">\n",
       "  <thead>\n",
       "    <tr style=\"text-align: right;\">\n",
       "      <th></th>\n",
       "      <th>num_passengers</th>\n",
       "      <th>purchase_lead</th>\n",
       "      <th>length_of_stay</th>\n",
       "      <th>flight_hour</th>\n",
       "      <th>flight_day</th>\n",
       "      <th>wants_extra_baggage</th>\n",
       "      <th>wants_preferred_seat</th>\n",
       "      <th>wants_in_flight_meals</th>\n",
       "      <th>flight_duration</th>\n",
       "      <th>sales_channel_Mobile</th>\n",
       "      <th>trip_type_OneWay</th>\n",
       "      <th>trip_type_RoundTrip</th>\n",
       "      <th>label</th>\n",
       "    </tr>\n",
       "  </thead>\n",
       "  <tbody>\n",
       "    <tr>\n",
       "      <th>0</th>\n",
       "      <td>0.400769</td>\n",
       "      <td>1.971093</td>\n",
       "      <td>-0.119401</td>\n",
       "      <td>-0.381588</td>\n",
       "      <td>1.096876</td>\n",
       "      <td>0.703587</td>\n",
       "      <td>-0.650054</td>\n",
       "      <td>-0.863557</td>\n",
       "      <td>-1.174049</td>\n",
       "      <td>-0.355786</td>\n",
       "      <td>-0.088336</td>\n",
       "      <td>0.100826</td>\n",
       "      <td>0</td>\n",
       "    </tr>\n",
       "    <tr>\n",
       "      <th>1</th>\n",
       "      <td>-0.579424</td>\n",
       "      <td>0.302987</td>\n",
       "      <td>-0.089895</td>\n",
       "      <td>-1.120618</td>\n",
       "      <td>1.096876</td>\n",
       "      <td>-1.421288</td>\n",
       "      <td>-0.650054</td>\n",
       "      <td>-0.863557</td>\n",
       "      <td>-1.174049</td>\n",
       "      <td>-0.355786</td>\n",
       "      <td>-0.088336</td>\n",
       "      <td>0.100826</td>\n",
       "      <td>0</td>\n",
       "    </tr>\n",
       "    <tr>\n",
       "      <th>2</th>\n",
       "      <td>0.400769</td>\n",
       "      <td>1.759799</td>\n",
       "      <td>-0.030885</td>\n",
       "      <td>1.465988</td>\n",
       "      <td>-0.408618</td>\n",
       "      <td>0.703587</td>\n",
       "      <td>1.538334</td>\n",
       "      <td>-0.863557</td>\n",
       "      <td>-1.174049</td>\n",
       "      <td>-0.355786</td>\n",
       "      <td>-0.088336</td>\n",
       "      <td>0.100826</td>\n",
       "      <td>0</td>\n",
       "    </tr>\n",
       "    <tr>\n",
       "      <th>3</th>\n",
       "      <td>-0.579424</td>\n",
       "      <td>0.125056</td>\n",
       "      <td>0.234662</td>\n",
       "      <td>-0.935861</td>\n",
       "      <td>1.096876</td>\n",
       "      <td>-1.421288</td>\n",
       "      <td>-0.650054</td>\n",
       "      <td>1.158002</td>\n",
       "      <td>-1.174049</td>\n",
       "      <td>-0.355786</td>\n",
       "      <td>-0.088336</td>\n",
       "      <td>0.100826</td>\n",
       "      <td>0</td>\n",
       "    </tr>\n",
       "    <tr>\n",
       "      <th>4</th>\n",
       "      <td>0.400769</td>\n",
       "      <td>-0.186323</td>\n",
       "      <td>-0.030885</td>\n",
       "      <td>1.096473</td>\n",
       "      <td>-0.408618</td>\n",
       "      <td>0.703587</td>\n",
       "      <td>-0.650054</td>\n",
       "      <td>1.158002</td>\n",
       "      <td>-1.174049</td>\n",
       "      <td>-0.355786</td>\n",
       "      <td>-0.088336</td>\n",
       "      <td>0.100826</td>\n",
       "      <td>0</td>\n",
       "    </tr>\n",
       "  </tbody>\n",
       "</table>\n",
       "</div>"
      ],
      "text/plain": [
       "   num_passengers  purchase_lead  length_of_stay  flight_hour  flight_day  \\\n",
       "0        0.400769       1.971093       -0.119401    -0.381588    1.096876   \n",
       "1       -0.579424       0.302987       -0.089895    -1.120618    1.096876   \n",
       "2        0.400769       1.759799       -0.030885     1.465988   -0.408618   \n",
       "3       -0.579424       0.125056        0.234662    -0.935861    1.096876   \n",
       "4        0.400769      -0.186323       -0.030885     1.096473   -0.408618   \n",
       "\n",
       "   wants_extra_baggage  wants_preferred_seat  wants_in_flight_meals  \\\n",
       "0             0.703587             -0.650054              -0.863557   \n",
       "1            -1.421288             -0.650054              -0.863557   \n",
       "2             0.703587              1.538334              -0.863557   \n",
       "3            -1.421288             -0.650054               1.158002   \n",
       "4             0.703587             -0.650054               1.158002   \n",
       "\n",
       "   flight_duration  sales_channel_Mobile  trip_type_OneWay  \\\n",
       "0        -1.174049             -0.355786         -0.088336   \n",
       "1        -1.174049             -0.355786         -0.088336   \n",
       "2        -1.174049             -0.355786         -0.088336   \n",
       "3        -1.174049             -0.355786         -0.088336   \n",
       "4        -1.174049             -0.355786         -0.088336   \n",
       "\n",
       "   trip_type_RoundTrip  label  \n",
       "0             0.100826      0  \n",
       "1             0.100826      0  \n",
       "2             0.100826      0  \n",
       "3             0.100826      0  \n",
       "4             0.100826      0  "
      ]
     },
     "execution_count": 46,
     "metadata": {},
     "output_type": "execute_result"
    }
   ],
   "source": [
    "df_final.head()"
   ]
  },
  {
   "cell_type": "code",
   "execution_count": 47,
   "metadata": {},
   "outputs": [
    {
     "data": {
      "image/png": "[encoded data removed]",
      "text/plain": [
       "<Figure size 864x720 with 2 Axes>"
      ]
     },
     "metadata": {},
     "output_type": "display_data"
    }
   ],
   "source": [
    "# Create a correlation matrix\n",
    "correlation_matrix = df_final.corr()\n",
    "\n",
    "# Set up the matplotlib figure\n",
    "plt.figure(figsize=(12, 10))\n",
    "\n",
    "# Create a heatmap with nicer colors and correlation scores\n",
    "sns.heatmap(correlation_matrix, annot=True, cmap=\"coolwarm\", vmin=-1, vmax=1)\n",
    "\n",
    "# Add a title\n",
    "plt.title(\"Correlation Matrix\")\n",
    "\n",
    "# Show the plot\n",
    "plt.tight_layout()\n",
    "plt.show()\n"
   ]
  },
  {
   "cell_type": "code",
   "execution_count": 48,
   "metadata": {},
   "outputs": [],
   "source": [
    "# Select features and target\n",
    "X = df_final.iloc[:,:-1]\n",
    "y = df_final['label']\n",
    "\n",
    "# Split the data into train and test sets (80% train, 20% test)\n",
    "X_train, X_test, y_train, y_test = train_test_split(X, y, test_size=0.2, random_state=42)\n"
   ]
  },
  {
   "cell_type": "code",
   "execution_count": 49,
   "metadata": {},
   "outputs": [],
   "source": [
    "\"\"\"\n",
    "    Create functions to fit and predict the values of whether customer would complete the booking.\n",
    "    Also functions with metrics to evaluate the model prediction.\n",
    "\n",
    "\"\"\"\n",
    "\n",
    "def model_fit_predict(model, X, y, X_predict):\n",
    "    model.fit(X, y)\n",
    "    return model.predict(X_predict)\n",
    "\n",
    "def acc_score(y_true, y_pred):\n",
    "    return accuracy_score(y_true, y_pred)\n",
    "\n",
    "def pre_score(y_true, y_pred):\n",
    "    return precision_score(y_true, y_pred)\n",
    "\n",
    "def f_score(y_true, y_pred):\n",
    "    return f1_score(y_true, y_pred)"
   ]
  },
  {
   "cell_type": "code",
   "execution_count": 50,
   "metadata": {},
   "outputs": [],
   "source": [
    "#create an instance of the classifier and fit the training data\n",
    "clf_rf = RandomForestClassifier(max_depth =50 , min_samples_split=5,random_state=0)"
   ]
  },
  {
   "cell_type": "code",
   "execution_count": 51,
   "metadata": {},
   "outputs": [
    {
     "name": "stdout",
     "output_type": "stream",
     "text": [
      "Accuracy, precision and f1-score for training data are 0.94, 1.0 and 0.74 respectively\n"
     ]
    }
   ],
   "source": [
    "y_pred_train = model_fit_predict(clf_rf, X_train, y_train, X_train)\n",
    "set(y_pred_train)\n",
    "\n",
    "#f1 score for training data\n",
    "f1 = round(f1_score(y_train, y_pred_train),2) \n",
    "\n",
    "#accuracy score for training data\n",
    "acc = round(accuracy_score(y_train, y_pred_train),2) \n",
    "\n",
    "#precision score for training data\n",
    "pre = round(precision_score(y_train, y_pred_train),2) \n",
    "\n",
    "print(f\"Accuracy, precision and f1-score for training data are {acc}, {pre} and {f1} respectively\")"
   ]
  },
  {
   "cell_type": "code",
   "execution_count": 52,
   "metadata": {},
   "outputs": [
    {
     "name": "stderr",
     "output_type": "stream",
     "text": [
      "/opt/anaconda3/lib/python3.9/site-packages/sklearn/base.py:464: UserWarning: X does not have valid feature names, but RandomForestClassifier was fitted with feature names\n",
      "  warnings.warn(\n"
     ]
    },
    {
     "data": {
      "text/plain": [
       "0.9379017131424284"
      ]
     },
     "execution_count": 52,
     "metadata": {},
     "output_type": "execute_result"
    },
    {
     "data": {
      "image/png": "[encoded data removed]",
      "text/plain": [
       "<Figure size 576x396 with 1 Axes>"
      ]
     },
     "metadata": {},
     "output_type": "display_data"
    }
   ],
   "source": [
    "cm = ConfusionMatrix(clf_rf, classes=[0,1])\n",
    "cm.fit(X_train, y_train)\n",
    "\n",
    "cm.score(X_train, y_train)"
   ]
  },
  {
   "cell_type": "code",
   "execution_count": 53,
   "metadata": {},
   "outputs": [
    {
     "name": "stdout",
     "output_type": "stream",
     "text": [
      "Accuracy, precision and f1-score for training data are 0.85, 0.45 and 0.07 respectively\n"
     ]
    }
   ],
   "source": [
    "#create an instance of the classifier and fit the training data\n",
    "clf_rf = RandomForestClassifier(max_depth =50 , min_samples_split=5,random_state=0)\n",
    "\n",
    "y_pred_test = model_fit_predict(clf_rf, X_train, y_train, X_test)\n",
    "\n",
    "#f1 score for training data\n",
    "f1 = round(f1_score(y_test, y_pred_test),2) \n",
    "\n",
    "#accuracy score for training data\n",
    "acc = round(accuracy_score(y_test, y_pred_test),2) \n",
    "\n",
    "#precision score for training data\n",
    "pre = round(precision_score(y_test, y_pred_test),2) \n",
    "\n",
    "print(f\"Accuracy, precision and f1-score for training data are {acc}, {pre} and {f1} respectively\")"
   ]
  },
  {
   "cell_type": "code",
   "execution_count": 54,
   "metadata": {},
   "outputs": [
    {
     "name": "stderr",
     "output_type": "stream",
     "text": [
      "/opt/anaconda3/lib/python3.9/site-packages/sklearn/base.py:464: UserWarning: X does not have valid feature names, but RandomForestClassifier was fitted with feature names\n",
      "  warnings.warn(\n"
     ]
    },
    {
     "data": {
      "text/plain": [
       "0.8531559467840352"
      ]
     },
     "execution_count": 54,
     "metadata": {},
     "output_type": "execute_result"
    },
    {
     "data": {
      "image/png": "[encoded data removed]",
      "text/plain": [
       "<Figure size 576x396 with 1 Axes>"
      ]
     },
     "metadata": {},
     "output_type": "display_data"
    }
   ],
   "source": [
    "cm = ConfusionMatrix(clf_rf, classes=[0,1])\n",
    "cm.fit(X_train, y_train)\n",
    "\n",
    "cm.score(X_test, y_test)"
   ]
  },
  {
   "cell_type": "code",
   "execution_count": 55,
   "metadata": {},
   "outputs": [
    {
     "data": {
      "text/plain": [
       "Text(0.5, 0, 'Random Forest Feature Importance')"
      ]
     },
     "execution_count": 55,
     "metadata": {},
     "output_type": "execute_result"
    },
    {
     "data": {
      "image/png": "[encoded data removed]",
      "text/plain": [
       "<Figure size 720x360 with 1 Axes>"
      ]
     },
     "metadata": {},
     "output_type": "display_data"
    }
   ],
   "source": [
    "plt.figure(figsize=(10,5))\n",
    "sorted_idx = clf_rf.feature_importances_.argsort()\n",
    "plt.barh(df_final.iloc[:,:-1].columns[sorted_idx], clf_rf.feature_importances_[sorted_idx])\n",
    "plt.xlabel(\"Random Forest Feature Importance\")"
   ]
  },
  {
   "cell_type": "code",
   "execution_count": 56,
   "metadata": {},
   "outputs": [
    {
     "data": {
      "text/plain": [
       "0    42506\n",
       "1     7476\n",
       "Name: label, dtype: int64"
      ]
     },
     "execution_count": 56,
     "metadata": {},
     "output_type": "execute_result"
    }
   ],
   "source": [
    "df_final.label.value_counts()"
   ]
  },
  {
   "cell_type": "code",
   "execution_count": 58,
   "metadata": {},
   "outputs": [],
   "source": [
    "#create a dataframe having all labels 0 with 8000 samples\n",
    "scaled_df_0 = df_final[df_final.label ==0].sample(n=8000)"
   ]
  },
  {
   "cell_type": "code",
   "execution_count": 59,
   "metadata": {},
   "outputs": [],
   "source": [
    "#concatenate the two dataframee, one havng all labels 0 and other having all labels as 1\n",
    "scaled_df_new = pd.concat([df_final[df_final.label==1], scaled_df_0], ignore_index=True)"
   ]
  },
  {
   "cell_type": "code",
   "execution_count": 60,
   "metadata": {},
   "outputs": [],
   "source": [
    "#shuffle the dataframe rows\n",
    "scaled_df_new = scaled_df_new.sample(frac = 1).reset_index(drop=True)"
   ]
  },
  {
   "cell_type": "code",
   "execution_count": 62,
   "metadata": {},
   "outputs": [
    {
     "data": {
      "text/html": [
       "<div>\n",
       "<style scoped>\n",
       "    .dataframe tbody tr th:only-of-type {\n",
       "        vertical-align: middle;\n",
       "    }\n",
       "\n",
       "    .dataframe tbody tr th {\n",
       "        vertical-align: top;\n",
       "    }\n",
       "\n",
       "    .dataframe thead th {\n",
       "        text-align: right;\n",
       "    }\n",
       "</style>\n",
       "<table border=\"1\" class=\"dataframe\">\n",
       "  <thead>\n",
       "    <tr style=\"text-align: right;\">\n",
       "      <th></th>\n",
       "      <th>num_passengers</th>\n",
       "      <th>purchase_lead</th>\n",
       "      <th>length_of_stay</th>\n",
       "      <th>flight_hour</th>\n",
       "      <th>flight_day</th>\n",
       "      <th>wants_extra_baggage</th>\n",
       "      <th>wants_preferred_seat</th>\n",
       "      <th>wants_in_flight_meals</th>\n",
       "      <th>flight_duration</th>\n",
       "      <th>sales_channel_Mobile</th>\n",
       "      <th>trip_type_OneWay</th>\n",
       "      <th>trip_type_RoundTrip</th>\n",
       "      <th>label</th>\n",
       "    </tr>\n",
       "  </thead>\n",
       "  <tbody>\n",
       "    <tr>\n",
       "      <th>0</th>\n",
       "      <td>-0.579424</td>\n",
       "      <td>0.158418</td>\n",
       "      <td>0.382189</td>\n",
       "      <td>0.911715</td>\n",
       "      <td>0.093214</td>\n",
       "      <td>0.703587</td>\n",
       "      <td>1.538334</td>\n",
       "      <td>1.158002</td>\n",
       "      <td>1.037314</td>\n",
       "      <td>-0.355786</td>\n",
       "      <td>-0.088336</td>\n",
       "      <td>0.100826</td>\n",
       "      <td>0</td>\n",
       "    </tr>\n",
       "    <tr>\n",
       "      <th>1</th>\n",
       "      <td>-0.579424</td>\n",
       "      <td>-0.197444</td>\n",
       "      <td>-0.502969</td>\n",
       "      <td>-1.305376</td>\n",
       "      <td>0.595045</td>\n",
       "      <td>0.703587</td>\n",
       "      <td>-0.650054</td>\n",
       "      <td>-0.863557</td>\n",
       "      <td>1.037314</td>\n",
       "      <td>-0.355786</td>\n",
       "      <td>-0.088336</td>\n",
       "      <td>0.100826</td>\n",
       "      <td>0</td>\n",
       "    </tr>\n",
       "    <tr>\n",
       "      <th>2</th>\n",
       "      <td>3.341348</td>\n",
       "      <td>0.147298</td>\n",
       "      <td>-0.532474</td>\n",
       "      <td>-0.751103</td>\n",
       "      <td>-1.412280</td>\n",
       "      <td>0.703587</td>\n",
       "      <td>-0.650054</td>\n",
       "      <td>1.158002</td>\n",
       "      <td>-1.300985</td>\n",
       "      <td>-0.355786</td>\n",
       "      <td>-0.088336</td>\n",
       "      <td>0.100826</td>\n",
       "      <td>1</td>\n",
       "    </tr>\n",
       "    <tr>\n",
       "      <th>3</th>\n",
       "      <td>0.400769</td>\n",
       "      <td>0.058332</td>\n",
       "      <td>-0.060390</td>\n",
       "      <td>1.096473</td>\n",
       "      <td>-0.910449</td>\n",
       "      <td>-1.421288</td>\n",
       "      <td>-0.650054</td>\n",
       "      <td>-0.863557</td>\n",
       "      <td>1.037314</td>\n",
       "      <td>-0.355786</td>\n",
       "      <td>-0.088336</td>\n",
       "      <td>0.100826</td>\n",
       "      <td>0</td>\n",
       "    </tr>\n",
       "    <tr>\n",
       "      <th>4</th>\n",
       "      <td>-0.579424</td>\n",
       "      <td>-0.330893</td>\n",
       "      <td>-0.532474</td>\n",
       "      <td>0.726958</td>\n",
       "      <td>1.096876</td>\n",
       "      <td>0.703587</td>\n",
       "      <td>-0.650054</td>\n",
       "      <td>-0.863557</td>\n",
       "      <td>-0.439155</td>\n",
       "      <td>-0.355786</td>\n",
       "      <td>-0.088336</td>\n",
       "      <td>0.100826</td>\n",
       "      <td>1</td>\n",
       "    </tr>\n",
       "    <tr>\n",
       "      <th>...</th>\n",
       "      <td>...</td>\n",
       "      <td>...</td>\n",
       "      <td>...</td>\n",
       "      <td>...</td>\n",
       "      <td>...</td>\n",
       "      <td>...</td>\n",
       "      <td>...</td>\n",
       "      <td>...</td>\n",
       "      <td>...</td>\n",
       "      <td>...</td>\n",
       "      <td>...</td>\n",
       "      <td>...</td>\n",
       "      <td>...</td>\n",
       "    </tr>\n",
       "    <tr>\n",
       "      <th>15471</th>\n",
       "      <td>-0.579424</td>\n",
       "      <td>-0.519945</td>\n",
       "      <td>0.470704</td>\n",
       "      <td>0.357443</td>\n",
       "      <td>1.096876</td>\n",
       "      <td>0.703587</td>\n",
       "      <td>1.538334</td>\n",
       "      <td>1.158002</td>\n",
       "      <td>1.037314</td>\n",
       "      <td>-0.355786</td>\n",
       "      <td>-0.088336</td>\n",
       "      <td>0.100826</td>\n",
       "      <td>0</td>\n",
       "    </tr>\n",
       "    <tr>\n",
       "      <th>15472</th>\n",
       "      <td>0.400769</td>\n",
       "      <td>-0.430979</td>\n",
       "      <td>-0.561979</td>\n",
       "      <td>-0.566346</td>\n",
       "      <td>-0.408618</td>\n",
       "      <td>0.703587</td>\n",
       "      <td>1.538334</td>\n",
       "      <td>1.158002</td>\n",
       "      <td>-0.439155</td>\n",
       "      <td>-0.355786</td>\n",
       "      <td>-0.088336</td>\n",
       "      <td>0.100826</td>\n",
       "      <td>1</td>\n",
       "    </tr>\n",
       "    <tr>\n",
       "      <th>15473</th>\n",
       "      <td>0.400769</td>\n",
       "      <td>-0.175203</td>\n",
       "      <td>-0.502969</td>\n",
       "      <td>-0.566346</td>\n",
       "      <td>-0.910449</td>\n",
       "      <td>0.703587</td>\n",
       "      <td>1.538334</td>\n",
       "      <td>-0.863557</td>\n",
       "      <td>1.037314</td>\n",
       "      <td>-0.355786</td>\n",
       "      <td>-0.088336</td>\n",
       "      <td>0.100826</td>\n",
       "      <td>1</td>\n",
       "    </tr>\n",
       "    <tr>\n",
       "      <th>15474</th>\n",
       "      <td>0.400769</td>\n",
       "      <td>-0.453220</td>\n",
       "      <td>-0.502969</td>\n",
       "      <td>-1.120618</td>\n",
       "      <td>-0.910449</td>\n",
       "      <td>-1.421288</td>\n",
       "      <td>1.538334</td>\n",
       "      <td>1.158002</td>\n",
       "      <td>1.037314</td>\n",
       "      <td>-0.355786</td>\n",
       "      <td>-0.088336</td>\n",
       "      <td>0.100826</td>\n",
       "      <td>1</td>\n",
       "    </tr>\n",
       "    <tr>\n",
       "      <th>15475</th>\n",
       "      <td>-0.579424</td>\n",
       "      <td>-0.519945</td>\n",
       "      <td>-0.561979</td>\n",
       "      <td>-1.674891</td>\n",
       "      <td>0.595045</td>\n",
       "      <td>0.703587</td>\n",
       "      <td>-0.650054</td>\n",
       "      <td>1.158002</td>\n",
       "      <td>1.037314</td>\n",
       "      <td>-0.355786</td>\n",
       "      <td>-0.088336</td>\n",
       "      <td>0.100826</td>\n",
       "      <td>0</td>\n",
       "    </tr>\n",
       "  </tbody>\n",
       "</table>\n",
       "<p>15476 rows × 13 columns</p>\n",
       "</div>"
      ],
      "text/plain": [
       "       num_passengers  purchase_lead  length_of_stay  flight_hour  flight_day  \\\n",
       "0           -0.579424       0.158418        0.382189     0.911715    0.093214   \n",
       "1           -0.579424      -0.197444       -0.502969    -1.305376    0.595045   \n",
       "2            3.341348       0.147298       -0.532474    -0.751103   -1.412280   \n",
       "3            0.400769       0.058332       -0.060390     1.096473   -0.910449   \n",
       "4           -0.579424      -0.330893       -0.532474     0.726958    1.096876   \n",
       "...               ...            ...             ...          ...         ...   \n",
       "15471       -0.579424      -0.519945        0.470704     0.357443    1.096876   \n",
       "15472        0.400769      -0.430979       -0.561979    -0.566346   -0.408618   \n",
       "15473        0.400769      -0.175203       -0.502969    -0.566346   -0.910449   \n",
       "15474        0.400769      -0.453220       -0.502969    -1.120618   -0.910449   \n",
       "15475       -0.579424      -0.519945       -0.561979    -1.674891    0.595045   \n",
       "\n",
       "       wants_extra_baggage  wants_preferred_seat  wants_in_flight_meals  \\\n",
       "0                 0.703587              1.538334               1.158002   \n",
       "1                 0.703587             -0.650054              -0.863557   \n",
       "2                 0.703587             -0.650054               1.158002   \n",
       "3                -1.421288             -0.650054              -0.863557   \n",
       "4                 0.703587             -0.650054              -0.863557   \n",
       "...                    ...                   ...                    ...   \n",
       "15471             0.703587              1.538334               1.158002   \n",
       "15472             0.703587              1.538334               1.158002   \n",
       "15473             0.703587              1.538334              -0.863557   \n",
       "15474            -1.421288              1.538334               1.158002   \n",
       "15475             0.703587             -0.650054               1.158002   \n",
       "\n",
       "       flight_duration  sales_channel_Mobile  trip_type_OneWay  \\\n",
       "0             1.037314             -0.355786         -0.088336   \n",
       "1             1.037314             -0.355786         -0.088336   \n",
       "2            -1.300985             -0.355786         -0.088336   \n",
       "3             1.037314             -0.355786         -0.088336   \n",
       "4            -0.439155             -0.355786         -0.088336   \n",
       "...                ...                   ...               ...   \n",
       "15471         1.037314             -0.355786         -0.088336   \n",
       "15472        -0.439155             -0.355786         -0.088336   \n",
       "15473         1.037314             -0.355786         -0.088336   \n",
       "15474         1.037314             -0.355786         -0.088336   \n",
       "15475         1.037314             -0.355786         -0.088336   \n",
       "\n",
       "       trip_type_RoundTrip  label  \n",
       "0                 0.100826      0  \n",
       "1                 0.100826      0  \n",
       "2                 0.100826      1  \n",
       "3                 0.100826      0  \n",
       "4                 0.100826      1  \n",
       "...                    ...    ...  \n",
       "15471             0.100826      0  \n",
       "15472             0.100826      1  \n",
       "15473             0.100826      1  \n",
       "15474             0.100826      1  \n",
       "15475             0.100826      0  \n",
       "\n",
       "[15476 rows x 13 columns]"
      ]
     },
     "execution_count": 62,
     "metadata": {},
     "output_type": "execute_result"
    }
   ],
   "source": [
    "scaled_df_new"
   ]
  },
  {
   "cell_type": "code",
   "execution_count": 63,
   "metadata": {},
   "outputs": [],
   "source": [
    "X = scaled_df_new.iloc[:,:-1]\n",
    "y = scaled_df_new['label']\n",
    "\n",
    "X_train, X_test, y_train, y_test = train_test_split(X.to_numpy(), y.to_numpy(), test_size=0.20, random_state=42)"
   ]
  },
  {
   "cell_type": "code",
   "execution_count": 64,
   "metadata": {},
   "outputs": [],
   "source": [
    "#create an instance of the classifier and fit the training data\n",
    "clf_rf = RandomForestClassifier(n_estimators=50,max_depth =50 , min_samples_split=5,random_state=0)"
   ]
  },
  {
   "cell_type": "code",
   "execution_count": 65,
   "metadata": {},
   "outputs": [
    {
     "name": "stdout",
     "output_type": "stream",
     "text": [
      "Accuracy, precision, recall and f1-score for training data are 0.62, 0.61, 0.58, 0.65 and 0.6\n"
     ]
    }
   ],
   "source": [
    "y_pred_test = model_fit_predict(clf_rf, X_train, y_train, X_test)\n",
    "\n",
    "#f1 score for training data\n",
    "f1 = round(f1_score(y_test, y_pred_test),2) \n",
    "\n",
    "#accuracy score for training data\n",
    "acc = round(accuracy_score(y_test, y_pred_test),2) \n",
    "\n",
    "#precision score for training data\n",
    "pre = round(precision_score(y_test, y_pred_test),2) \n",
    "\n",
    "recall = round(recall_score(y_test, y_pred_test),2)\n",
    "\n",
    "specificity = round(recall_score(y_test, y_pred_test, pos_label=0),2)\n",
    "\n",
    "print(f\"Accuracy, precision, recall and f1-score for training data are {acc}, {pre}, {recall}, {specificity} and {f1}\")"
   ]
  },
  {
   "cell_type": "code",
   "execution_count": 66,
   "metadata": {},
   "outputs": [
    {
     "data": {
      "text/plain": [
       "0.6172480620155039"
      ]
     },
     "execution_count": 66,
     "metadata": {},
     "output_type": "execute_result"
    },
    {
     "data": {
      "image/png": "[encoded data removed]",
      "text/plain": [
       "<Figure size 576x396 with 1 Axes>"
      ]
     },
     "metadata": {},
     "output_type": "display_data"
    }
   ],
   "source": [
    "cm = ConfusionMatrix(clf_rf, classes=[0,1])\n",
    "cm.fit(X_train, y_train)\n",
    "\n",
    "cm.score(X_test, y_test)"
   ]
  },
  {
   "cell_type": "code",
   "execution_count": 68,
   "metadata": {},
   "outputs": [
    {
     "data": {
      "text/plain": [
       "Text(0.5, 0, 'Random Forest Feature Importance')"
      ]
     },
     "execution_count": 68,
     "metadata": {},
     "output_type": "execute_result"
    },
    {
     "data": {
      "image/png": "[encoded data removed]",
      "text/plain": [
       "<Figure size 720x576 with 1 Axes>"
      ]
     },
     "metadata": {},
     "output_type": "display_data"
    }
   ],
   "source": [
    "plt.figure(figsize=(10,8))\n",
    "sorted_idx = clf_rf.feature_importances_.argsort()\n",
    "plt.barh(df_final.iloc[:,:-1].columns[sorted_idx], clf_rf.feature_importances_[sorted_idx])\n",
    "plt.xlabel(\"Random Forest Feature Importance\")"
   ]
  },
  {
   "cell_type": "code",
   "execution_count": null,
   "metadata": {},
   "outputs": [],
   "source": []
  }
 ],
 "metadata": {
  "kernelspec": {
   "display_name": "Python 3 (ipykernel)",
   "language": "python",
   "name": "python3"
  },
  "language_info": {
   "codemirror_mode": {
    "name": "ipython",
    "version": 3
   },
   "file_extension": ".py",
   "mimetype": "text/x-python",
   "name": "python",
   "nbconvert_exporter": "python",
   "pygments_lexer": "ipython3",
   "version": "3.9.7"
  },
  "vscode": {
   "interpreter": {
    "hash": "4f7924c4c56b083e0e50eadfe7ef592a7a8ef70df33a0047f82280e6be1afe15"
   }
  }
 },
 "nbformat": 4,
 "nbformat_minor": 2
}
